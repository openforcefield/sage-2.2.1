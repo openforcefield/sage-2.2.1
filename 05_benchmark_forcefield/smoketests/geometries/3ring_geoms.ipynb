{
 "cells": [
  {
   "cell_type": "code",
   "execution_count": 8,
   "metadata": {},
   "outputs": [],
   "source": [
    "from openff.toolkit.topology import Molecule, Topology\n",
    "from openff.toolkit.typing.engines.smirnoff import ForceField\n",
    "from openff.units import unit\n",
    "\n",
    "from openff.interchange import Interchange\n",
    "from openff.interchange.drivers import get_gromacs_energies, get_openmm_energies\n",
    "import multiprocessing\n",
    "import tqdm\n",
    "import numpy as np\n",
    "import sys\n",
    "import openmm\n",
    "from openff.units.openmm import from_openmm\n",
    "import os\n",
    "# suppress stereochemistry warnings\n",
    "import logging\n",
    "from rdkit import Chem\n",
    "import itertools\n",
    "\n",
    "from openff.qcsubmit.results import TorsionDriveResultCollection, OptimizationResultCollection\n",
    "import logging\n",
    "logging.getLogger(\"openff\").setLevel(logging.ERROR)\n",
    "\n",
    "from openff.qcsubmit.results.filters import SMARTSFilter\n",
    "\n",
    "from rdkit import Chem\n",
    "from rdkit.Chem import AllChem\n",
    "from rdkit.Chem import rdMolTransforms\n",
    "\n",
    "import MDAnalysis as mda"
   ]
  },
  {
   "cell_type": "code",
   "execution_count": 2,
   "metadata": {},
   "outputs": [],
   "source": [
    "def minimize_energy(mol,ff):\n",
    "    topo = mol.to_topology()\n",
    "    interchange = Interchange.from_smirnoff(force_field=ff, topology=topo,allow_nonintegral_charges=True)#,charge_from_molecules=[mol]) #,charge_from_molecules=[mol])\n",
    "    integrator = openmm.VerletIntegrator(1 * openmm.unit.femtoseconds)\n",
    "    simulation = interchange.to_openmm_simulation(integrator)\n",
    "\n",
    "    # We'll store energies in two lists\n",
    "    initial_energies = []\n",
    "    minimized_energies = []\n",
    "\n",
    "    # And minimized conformers in a second molecule\n",
    "    minimized_molecule = Molecule.from_topology(topo)\n",
    "    minimized_molecule.conformers.clear()\n",
    "\n",
    "    conformer = mol.conformers[0]\n",
    "    # Tell the OpenMM Simulation the positions of this conformer\n",
    "    simulation.context.setPositions(conformer.to_openmm())\n",
    "\n",
    "    # Keep a record of the initial energy\n",
    "    initial_energies.append(\n",
    "        simulation.context.getState(getEnergy=True).getPotentialEnergy()\n",
    "    )\n",
    "\n",
    "    # Perform the minimization\n",
    "    simulation.minimizeEnergy()#tolerance=Quantity(value=0.0026255, unit=kilojoule/mole))#tolerance=5e-9)\n",
    "\n",
    "    # Record minimized energy and positions\n",
    "    min_state = simulation.context.getState(getEnergy=True, getPositions=True)\n",
    "\n",
    "    minimized_energies.append(min_state.getPotentialEnergy())\n",
    "    minimized_molecule.add_conformer(from_openmm(min_state.getPositions()))\n",
    "    return initial_energies,minimized_energies,minimized_molecule\n"
   ]
  },
  {
   "cell_type": "markdown",
   "metadata": {},
   "source": [
    "# Molecule 1"
   ]
  },
  {
   "cell_type": "code",
   "execution_count": 3,
   "metadata": {},
   "outputs": [],
   "source": [
    "# test_mol = industry_benchmark_r3_rm[15][1]\n",
    "# test_mol"
   ]
  },
  {
   "cell_type": "code",
   "execution_count": 4,
   "metadata": {},
   "outputs": [],
   "source": [
    "# industry_benchmark_r3_rm[15]"
   ]
  },
  {
   "cell_type": "code",
   "execution_count": 5,
   "metadata": {},
   "outputs": [],
   "source": [
    "# test_mol.to_file('qcaid_37008138.sdf',file_format='sdf')"
   ]
  },
  {
   "cell_type": "code",
   "execution_count": 6,
   "metadata": {},
   "outputs": [],
   "source": [
    "test_mol = Molecule.from_file(\"qcaid_37008138.sdf\", \"SDF\")"
   ]
  },
  {
   "cell_type": "code",
   "execution_count": 9,
   "metadata": {},
   "outputs": [
    {
     "name": "stderr",
     "output_type": "stream",
     "text": [
      "/Users/lily/micromamba/envs/yammbs/lib/python3.10/site-packages/MDAnalysis/coordinates/PDB.py:777: UserWarning: Unit cell dimensions not found. CRYST1 record set to unitary values.\n",
      "  warnings.warn(\"Unit cell dimensions not found. \"\n",
      "/Users/lily/micromamba/envs/yammbs/lib/python3.10/site-packages/MDAnalysis/coordinates/PDB.py:1153: UserWarning: Found no information for attr: 'altLocs' Using default value of ' '\n",
      "  warnings.warn(\"Found no information for attr: '{}'\"\n",
      "/Users/lily/micromamba/envs/yammbs/lib/python3.10/site-packages/MDAnalysis/coordinates/PDB.py:1153: UserWarning: Found no information for attr: 'resnames' Using default value of 'UNK'\n",
      "  warnings.warn(\"Found no information for attr: '{}'\"\n",
      "/Users/lily/micromamba/envs/yammbs/lib/python3.10/site-packages/MDAnalysis/coordinates/PDB.py:1153: UserWarning: Found no information for attr: 'icodes' Using default value of ' '\n",
      "  warnings.warn(\"Found no information for attr: '{}'\"\n",
      "/Users/lily/micromamba/envs/yammbs/lib/python3.10/site-packages/MDAnalysis/coordinates/PDB.py:1153: UserWarning: Found no information for attr: 'chainIDs' Using default value of ''\n",
      "  warnings.warn(\"Found no information for attr: '{}'\"\n",
      "/Users/lily/micromamba/envs/yammbs/lib/python3.10/site-packages/MDAnalysis/coordinates/PDB.py:1153: UserWarning: Found no information for attr: 'occupancies' Using default value of '1.0'\n",
      "  warnings.warn(\"Found no information for attr: '{}'\"\n",
      "/Users/lily/micromamba/envs/yammbs/lib/python3.10/site-packages/MDAnalysis/coordinates/PDB.py:1153: UserWarning: Found no information for attr: 'tempfactors' Using default value of '0.0'\n",
      "  warnings.warn(\"Found no information for attr: '{}'\"\n",
      "/Users/lily/micromamba/envs/yammbs/lib/python3.10/site-packages/MDAnalysis/coordinates/PDB.py:1153: UserWarning: Found no information for attr: 'record_types' Using default value of 'ATOM'\n",
      "  warnings.warn(\"Found no information for attr: '{}'\"\n",
      "/Users/lily/micromamba/envs/yammbs/lib/python3.10/site-packages/MDAnalysis/coordinates/PDB.py:1153: UserWarning: Found no information for attr: 'formalcharges' Using default value of '0'\n",
      "  warnings.warn(\"Found no information for attr: '{}'\"\n",
      "/Users/lily/micromamba/envs/yammbs/lib/python3.10/site-packages/MDAnalysis/coordinates/PDB.py:1200: UserWarning: Found missing chainIDs. Corresponding atoms will use value of 'X'\n",
      "  warnings.warn(\"Found missing chainIDs.\"\n"
     ]
    }
   ],
   "source": [
    "ie_sage200_qm,me_sage200_qm,min_mol_sage200_qm = minimize_energy(test_mol,ForceField('openff_unconstrained-2.0.0.offxml'))\n",
    "u_sage200_1 = mda.Universe(min_mol_sage200_qm.to_rdkit())\n",
    "u_sage200_1.atoms.write(\"sage-200_qcaid_37008138_opt.pdb\")"
   ]
  },
  {
   "cell_type": "code",
   "execution_count": 10,
   "metadata": {},
   "outputs": [],
   "source": [
    "ie_sage210_qm,me_sage210_qm,min_mol_sage210_qm = minimize_energy(test_mol,ForceField('openff_unconstrained-2.1.0.offxml'))\n",
    "u_sage210_1 = mda.Universe(min_mol_sage210_qm.to_rdkit())\n",
    "u_sage210_1.atoms.write(\"sage-210_qcaid_37008138_opt.pdb\")"
   ]
  },
  {
   "cell_type": "code",
   "execution_count": 12,
   "metadata": {},
   "outputs": [],
   "source": [
    "ie_sage220_qm,me_sage220_qm,min_mol_sage220_qm = minimize_energy(test_mol,ForceField('../../../openff_unconstrained-2.2.0.offxml',allow_cosmetic_attributes=True))\n",
    "u_sage220_1 = mda.Universe(min_mol_sage220_qm.to_rdkit())\n",
    "u_sage220_1.atoms.write(\"sage-220_qcaid_37008138_opt.pdb\")"
   ]
  },
  {
   "cell_type": "code",
   "execution_count": 13,
   "metadata": {},
   "outputs": [],
   "source": [
    "ie_sage221_qm,me_sage221_qm,min_mol_sage221_qm = minimize_energy(test_mol,ForceField('../../../openff_unconstrained-2.2.1-rc1.offxml',allow_cosmetic_attributes=True))\n",
    "u_sage221_1 = mda.Universe(min_mol_sage221_qm.to_rdkit())\n",
    "u_sage221_1.atoms.write(\"sage-221_qcaid_37008138_opt.pdb\")"
   ]
  },
  {
   "cell_type": "code",
   "execution_count": 31,
   "metadata": {},
   "outputs": [],
   "source": [
    "u_qm_min = mda.Universe(test_mol.to_rdkit())\n",
    "u_qm_min.atoms.write(\"qm_qcaid_37008138_opt.pdb\")"
   ]
  },
  {
   "cell_type": "code",
   "execution_count": 14,
   "metadata": {},
   "outputs": [],
   "source": [
    "min_mol_sage220_qm.to_file('qcaid_37008138_optsage220.sdf',file_format='sdf')\n",
    "min_mol_sage221_qm.to_file('qcaid_37008138_optsage221.sdf',file_format='sdf')"
   ]
  },
  {
   "cell_type": "code",
   "execution_count": 15,
   "metadata": {},
   "outputs": [],
   "source": [
    "opt_sage200 = min_mol_sage200_qm.to_rdkit()\n",
    "opt_sage200_conf = opt_sage200.GetConformer()"
   ]
  },
  {
   "cell_type": "code",
   "execution_count": 16,
   "metadata": {},
   "outputs": [],
   "source": [
    "opt_sage210 = min_mol_sage210_qm.to_rdkit()\n",
    "opt_sage210_conf = opt_sage210.GetConformer()"
   ]
  },
  {
   "cell_type": "code",
   "execution_count": 17,
   "metadata": {},
   "outputs": [],
   "source": [
    "opt_sage220 = min_mol_sage220_qm.to_rdkit()\n",
    "opt_sage220_conf = opt_sage220.GetConformer()"
   ]
  },
  {
   "cell_type": "code",
   "execution_count": 18,
   "metadata": {},
   "outputs": [],
   "source": [
    "opt_sage221 = min_mol_sage221_qm.to_rdkit()\n",
    "opt_sage221_conf = opt_sage221.GetConformer()"
   ]
  },
  {
   "cell_type": "code",
   "execution_count": 19,
   "metadata": {},
   "outputs": [],
   "source": [
    "qm_rdkit = test_mol.to_rdkit()\n",
    "qm_conf = qm_rdkit.GetConformer()"
   ]
  },
  {
   "cell_type": "markdown",
   "metadata": {},
   "source": [
    "#### Geometries"
   ]
  },
  {
   "cell_type": "code",
   "execution_count": 20,
   "metadata": {},
   "outputs": [
    {
     "name": "stdout",
     "output_type": "stream",
     "text": [
      "12 7 8\n"
     ]
    }
   ],
   "source": [
    "o = [a[0] for a in test_mol.chemical_environment_matches('[#8;r3:1]')][0]\n",
    "c1,c2 = [a[0] for a in test_mol.chemical_environment_matches('[#6;r3:1]')]\n",
    "print(o,c1,c2)"
   ]
  },
  {
   "cell_type": "code",
   "execution_count": 21,
   "metadata": {},
   "outputs": [
    {
     "name": "stdout",
     "output_type": "stream",
     "text": [
      " O-C1:  1.4150285595524377\n",
      " O-C2:  1.41733725591812\n",
      "C1-C2:  1.5632267228927386\n"
     ]
    }
   ],
   "source": [
    "print(' O-C1: ', Chem.rdMolTransforms.GetBondLength(opt_sage200_conf,o,c1) )\n",
    "print(' O-C2: ', Chem.rdMolTransforms.GetBondLength(opt_sage200_conf,o,c2) )\n",
    "print('C1-C2: ', Chem.rdMolTransforms.GetBondLength(opt_sage200_conf,c1,c2) )"
   ]
  },
  {
   "cell_type": "code",
   "execution_count": 22,
   "metadata": {},
   "outputs": [
    {
     "name": "stdout",
     "output_type": "stream",
     "text": [
      " O-C1:  1.2873620226815634\n",
      " O-C2:  1.2950843100145535\n",
      "C1-C2:  1.7419940286102387\n"
     ]
    }
   ],
   "source": [
    "print(' O-C1: ', Chem.rdMolTransforms.GetBondLength(opt_sage210_conf,o,c1) )\n",
    "print(' O-C2: ', Chem.rdMolTransforms.GetBondLength(opt_sage210_conf,o,c2) )\n",
    "print('C1-C2: ', Chem.rdMolTransforms.GetBondLength(opt_sage210_conf,c1,c2) )"
   ]
  },
  {
   "cell_type": "code",
   "execution_count": 23,
   "metadata": {},
   "outputs": [
    {
     "name": "stdout",
     "output_type": "stream",
     "text": [
      " O-C1:  1.4490246050548203\n",
      " O-C2:  1.4532513106199694\n",
      "C1-C2:  1.5282125235523683\n"
     ]
    }
   ],
   "source": [
    "print(' O-C1: ', Chem.rdMolTransforms.GetBondLength(opt_sage220_conf,o,c1) )\n",
    "print(' O-C2: ', Chem.rdMolTransforms.GetBondLength(opt_sage220_conf,o,c2) )\n",
    "print('C1-C2: ', Chem.rdMolTransforms.GetBondLength(opt_sage220_conf,c1,c2) )"
   ]
  },
  {
   "cell_type": "code",
   "execution_count": 24,
   "metadata": {},
   "outputs": [
    {
     "name": "stdout",
     "output_type": "stream",
     "text": [
      " O-C1:  1.4486861393740798\n",
      " O-C2:  1.4534532804075349\n",
      "C1-C2:  1.5278395203142217\n"
     ]
    }
   ],
   "source": [
    "print(' O-C1: ', Chem.rdMolTransforms.GetBondLength(opt_sage221_conf,o,c1) )\n",
    "print(' O-C2: ', Chem.rdMolTransforms.GetBondLength(opt_sage221_conf,o,c2) )\n",
    "print('C1-C2: ', Chem.rdMolTransforms.GetBondLength(opt_sage221_conf,c1,c2) )"
   ]
  },
  {
   "cell_type": "code",
   "execution_count": 25,
   "metadata": {},
   "outputs": [
    {
     "name": "stdout",
     "output_type": "stream",
     "text": [
      " O-C1:  1.4307177739703938\n",
      " O-C2:  1.430787564044903\n",
      "C1-C2:  1.4904549684441248\n"
     ]
    }
   ],
   "source": [
    "print(' O-C1: ', Chem.rdMolTransforms.GetBondLength(qm_conf,o,c1) )\n",
    "print(' O-C2: ', Chem.rdMolTransforms.GetBondLength(qm_conf,o,c2) )\n",
    "print('C1-C2: ', Chem.rdMolTransforms.GetBondLength(qm_conf,c1,c2) )"
   ]
  },
  {
   "cell_type": "code",
   "execution_count": 26,
   "metadata": {},
   "outputs": [
    {
     "name": "stdout",
     "output_type": "stream",
     "text": [
      "C1 - O - C2: 66.99699621656426\n",
      "C1 - C2 - O: 56.43093813148617\n",
      "O - C1 - C2: 56.57206565194957\n"
     ]
    }
   ],
   "source": [
    "print('C1 - O - C2:',Chem.rdMolTransforms.GetAngleDeg(opt_sage200_conf,c1,o,c2)) \n",
    "print('C1 - C2 - O:',Chem.rdMolTransforms.GetAngleDeg(opt_sage200_conf,c1,c2,o)) \n",
    "print('O - C1 - C2:',Chem.rdMolTransforms.GetAngleDeg(opt_sage200_conf,o,c1,c2)) \n"
   ]
  },
  {
   "cell_type": "code",
   "execution_count": 27,
   "metadata": {},
   "outputs": [
    {
     "name": "stdout",
     "output_type": "stream",
     "text": [
      "C1 - O - C2: 84.83816084511845\n",
      "C1 - C2 - O: 47.393413723283665\n",
      "O - C1 - C2: 47.768425431597876\n"
     ]
    }
   ],
   "source": [
    "print('C1 - O - C2:',Chem.rdMolTransforms.GetAngleDeg(opt_sage210_conf,c1,o,c2)) \n",
    "print('C1 - C2 - O:',Chem.rdMolTransforms.GetAngleDeg(opt_sage210_conf,c1,c2,o)) \n",
    "print('O - C1 - C2:',Chem.rdMolTransforms.GetAngleDeg(opt_sage210_conf,o,c1,c2)) \n"
   ]
  },
  {
   "cell_type": "code",
   "execution_count": 28,
   "metadata": {},
   "outputs": [
    {
     "name": "stdout",
     "output_type": "stream",
     "text": [
      "C1 - O - C2: 63.545987167644746\n",
      "C1 - C2 - O: 58.092286369377696\n",
      "O - C1 - C2: 58.36172646297757\n"
     ]
    }
   ],
   "source": [
    "print('C1 - O - C2:',Chem.rdMolTransforms.GetAngleDeg(opt_sage220_conf,c1,o,c2)) \n",
    "print('C1 - C2 - O:',Chem.rdMolTransforms.GetAngleDeg(opt_sage220_conf,c1,c2,o)) \n",
    "print('O - C1 - C2:',Chem.rdMolTransforms.GetAngleDeg(opt_sage220_conf,o,c1,c2)) \n"
   ]
  },
  {
   "cell_type": "code",
   "execution_count": 29,
   "metadata": {},
   "outputs": [
    {
     "name": "stdout",
     "output_type": "stream",
     "text": [
      "C1 - O - C2: 63.531948063796975\n",
      "C1 - C2 - O: 58.08203166709584\n",
      "O - C1 - C2: 58.38602026910717\n"
     ]
    }
   ],
   "source": [
    "print('C1 - O - C2:',Chem.rdMolTransforms.GetAngleDeg(opt_sage221_conf,c1,o,c2)) \n",
    "print('C1 - C2 - O:',Chem.rdMolTransforms.GetAngleDeg(opt_sage221_conf,c1,c2,o)) \n",
    "print('O - C1 - C2:',Chem.rdMolTransforms.GetAngleDeg(opt_sage221_conf,o,c1,c2)) \n"
   ]
  },
  {
   "cell_type": "code",
   "execution_count": 30,
   "metadata": {},
   "outputs": [
    {
     "name": "stdout",
     "output_type": "stream",
     "text": [
      "C1 - O - C2: 62.78044254406454\n",
      "C1 - C2 - O: 58.60748853517811\n",
      "O - C1 - C2: 58.61206892075735\n"
     ]
    }
   ],
   "source": [
    "print('C1 - O - C2:',Chem.rdMolTransforms.GetAngleDeg(qm_conf,c1,o,c2)) \n",
    "print('C1 - C2 - O:',Chem.rdMolTransforms.GetAngleDeg(qm_conf,c1,c2,o)) \n",
    "print('O - C1 - C2:',Chem.rdMolTransforms.GetAngleDeg(qm_conf,o,c1,c2)) \n"
   ]
  },
  {
   "cell_type": "code",
   "execution_count": null,
   "metadata": {},
   "outputs": [],
   "source": []
  }
 ],
 "metadata": {
  "kernelspec": {
   "display_name": "Python (yammbs)",
   "language": "python",
   "name": "yammbs"
  },
  "language_info": {
   "codemirror_mode": {
    "name": "ipython",
    "version": 3
   },
   "file_extension": ".py",
   "mimetype": "text/x-python",
   "name": "python",
   "nbconvert_exporter": "python",
   "pygments_lexer": "ipython3",
   "version": "3.10.14"
  }
 },
 "nbformat": 4,
 "nbformat_minor": 4
}
