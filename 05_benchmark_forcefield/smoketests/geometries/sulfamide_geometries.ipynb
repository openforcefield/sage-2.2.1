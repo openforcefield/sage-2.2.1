{
 "cells": [
  {
   "cell_type": "markdown",
   "metadata": {},
   "source": [
    "# Examining problematic sulfamide geometries"
   ]
  },
  {
   "cell_type": "code",
   "execution_count": 1,
   "metadata": {},
   "outputs": [],
   "source": [
    "from openff.toolkit.topology import Molecule, Topology\n",
    "from openff.toolkit.typing.engines.smirnoff import ForceField\n",
    "from openff.units import unit\n",
    "\n",
    "from openff.interchange import Interchange\n",
    "from openff.interchange.drivers import get_gromacs_energies, get_openmm_energies\n",
    "import multiprocessing\n",
    "import tqdm\n",
    "import numpy as np\n",
    "import sys\n",
    "import openmm\n",
    "from openff.units.openmm import from_openmm\n",
    "import os\n",
    "# suppress stereochemistry warnings\n",
    "import logging\n",
    "from rdkit import Chem\n",
    "import itertools\n",
    "\n",
    "from openff.qcsubmit.results import TorsionDriveResultCollection, OptimizationResultCollection\n",
    "import logging\n",
    "logging.getLogger(\"openff\").setLevel(logging.ERROR)\n",
    "\n",
    "from openff.qcsubmit.results.filters import SMARTSFilter\n",
    "\n",
    "import MDAnalysis as mda"
   ]
  },
  {
   "cell_type": "code",
   "execution_count": 2,
   "metadata": {},
   "outputs": [],
   "source": [
    "def minimize_energy(mol,ff):\n",
    "    topo = mol.to_topology()\n",
    "    interchange = Interchange.from_smirnoff(force_field=ff, topology=topo,allow_nonintegral_charges=True)#,charge_from_molecules=[mol]) #,charge_from_molecules=[mol])\n",
    "    integrator = openmm.VerletIntegrator(1 * openmm.unit.femtoseconds)\n",
    "    simulation = interchange.to_openmm_simulation(integrator)\n",
    "\n",
    "    # We'll store energies in two lists\n",
    "    initial_energies = []\n",
    "    minimized_energies = []\n",
    "\n",
    "    # And minimized conformers in a second molecule\n",
    "    minimized_molecule = Molecule.from_topology(topo)\n",
    "    minimized_molecule.conformers.clear()\n",
    "\n",
    "    conformer = mol.conformers[0]\n",
    "    # Tell the OpenMM Simulation the positions of this conformer\n",
    "    simulation.context.setPositions(conformer.to_openmm())\n",
    "\n",
    "    # Keep a record of the initial energy\n",
    "    initial_energies.append(\n",
    "        simulation.context.getState(getEnergy=True).getPotentialEnergy()\n",
    "    )\n",
    "\n",
    "    # Perform the minimization\n",
    "    simulation.minimizeEnergy()#tolerance=Quantity(value=0.0026255, unit=kilojoule/mole))#tolerance=5e-9)\n",
    "\n",
    "    # Record minimized energy and positions\n",
    "    min_state = simulation.context.getState(getEnergy=True, getPositions=True)\n",
    "\n",
    "    minimized_energies.append(min_state.getPotentialEnergy())\n",
    "    minimized_molecule.add_conformer(from_openmm(min_state.getPositions()))\n",
    "    return initial_energies,minimized_energies,minimized_molecule\n"
   ]
  },
  {
   "cell_type": "markdown",
   "metadata": {},
   "source": [
    "Choosing a few problem cases:"
   ]
  },
  {
   "cell_type": "markdown",
   "metadata": {},
   "source": [
    "# Molecule 19, QCArchive ID 36971837\n",
    "Bad with Sage 2.0.0, fixed in 2.1 and 2.2\n",
    "\n",
    "Has many conformers--index 19-28. Some are distorted, some aren't"
   ]
  },
  {
   "cell_type": "code",
   "execution_count": 3,
   "metadata": {},
   "outputs": [],
   "source": [
    "# test_mol1 = industry_benchmark_rm[19][1]\n",
    "# test_mol1"
   ]
  },
  {
   "cell_type": "code",
   "execution_count": 4,
   "metadata": {},
   "outputs": [],
   "source": [
    "# test_mol1.to_file('qcaid_36971837.sdf',file_format='sdf')"
   ]
  },
  {
   "cell_type": "code",
   "execution_count": 5,
   "metadata": {},
   "outputs": [],
   "source": [
    "test_mol1=Molecule.from_file('qcaid_36971837.sdf')"
   ]
  },
  {
   "cell_type": "code",
   "execution_count": 6,
   "metadata": {},
   "outputs": [],
   "source": [
    "ie_sage200_qm1,me_sage200_qm1,min_mol_sage200_qm1 = minimize_energy(test_mol1,ForceField('openff_unconstrained-2.0.0.offxml'))"
   ]
  },
  {
   "cell_type": "code",
   "execution_count": 10,
   "metadata": {},
   "outputs": [],
   "source": [
    "u_sage200_min = mda.Universe(min_mol_sage200_qm1.to_rdkit())\n",
    "u_sage200_min.atoms.write(\"sage-200_qcaid_36971837_opt.pdb\")"
   ]
  },
  {
   "cell_type": "code",
   "execution_count": 7,
   "metadata": {},
   "outputs": [],
   "source": [
    "ie_sage210_qm1,me_sage210_qm1,min_mol_sage210_qm1 = minimize_energy(test_mol1,ForceField('openff_unconstrained-2.1.0.offxml'))"
   ]
  },
  {
   "cell_type": "code",
   "execution_count": 9,
   "metadata": {},
   "outputs": [],
   "source": [
    "u_sage210_min = mda.Universe(min_mol_sage210_qm1.to_rdkit())\n",
    "u_sage210_min.atoms.write(\"sage-210_qcaid_36971837_opt.pdb\")"
   ]
  },
  {
   "cell_type": "code",
   "execution_count": 12,
   "metadata": {},
   "outputs": [],
   "source": [
    "ie_sage220_qm1,me_sage220_qm1,min_mol_sage220_qm1 = minimize_energy(test_mol1,ForceField('../../../openff_unconstrained-2.2.0.offxml',allow_cosmetic_attributes=True))"
   ]
  },
  {
   "cell_type": "code",
   "execution_count": 13,
   "metadata": {},
   "outputs": [],
   "source": [
    "u_sage220_min = mda.Universe(min_mol_sage220_qm1.to_rdkit())\n",
    "u_sage220_min.atoms.write(\"sage-220_qcaid_36971837_opt.pdb\")"
   ]
  },
  {
   "cell_type": "code",
   "execution_count": 16,
   "metadata": {},
   "outputs": [],
   "source": [
    "ie_sage221_qm1,me_sage221_qm1,min_mol_sage221_qm1 = minimize_energy(test_mol1,ForceField('../../../openff_unconstrained-2.2.1-rc1.offxml',allow_cosmetic_attributes=True))"
   ]
  },
  {
   "cell_type": "code",
   "execution_count": 66,
   "metadata": {},
   "outputs": [],
   "source": [
    "u_sage221_min = mda.Universe(min_mol_sage221_qm1.to_rdkit())\n",
    "u_sage221_min.atoms.write(\"sage-221_qcaid_36971837_opt.pdb\")"
   ]
  },
  {
   "cell_type": "code",
   "execution_count": 70,
   "metadata": {},
   "outputs": [],
   "source": [
    "u_qm_min = mda.Universe(test_mol1.to_rdkit())\n",
    "u_qm_min.atoms.write(\"qm_qcaid_36971837_opt.pdb\")"
   ]
  },
  {
   "cell_type": "code",
   "execution_count": 17,
   "metadata": {},
   "outputs": [],
   "source": [
    "min_mol_sage220_qm1.to_file('qcaid_36971837_optsage220.sdf',file_format='sdf')\n",
    "min_mol_sage221_qm1.to_file('qcaid_36971837_optsage221.sdf',file_format='sdf')"
   ]
  },
  {
   "cell_type": "code",
   "execution_count": 18,
   "metadata": {},
   "outputs": [],
   "source": [
    "opt1_sage200 = min_mol_sage200_qm1.to_rdkit()\n",
    "opt1_sage200_conf = opt1_sage200.GetConformer()"
   ]
  },
  {
   "cell_type": "code",
   "execution_count": 19,
   "metadata": {},
   "outputs": [],
   "source": [
    "opt1_sage210 = min_mol_sage210_qm1.to_rdkit()\n",
    "opt1_sage210_conf = opt1_sage210.GetConformer()"
   ]
  },
  {
   "cell_type": "code",
   "execution_count": 20,
   "metadata": {},
   "outputs": [],
   "source": [
    "opt1_sage220 = min_mol_sage220_qm1.to_rdkit()\n",
    "opt1_sage220_conf = opt1_sage220.GetConformer()"
   ]
  },
  {
   "cell_type": "code",
   "execution_count": 21,
   "metadata": {},
   "outputs": [],
   "source": [
    "opt1_sage221 = min_mol_sage221_qm1.to_rdkit()\n",
    "opt1_sage221_conf = opt1_sage221.GetConformer()"
   ]
  },
  {
   "cell_type": "code",
   "execution_count": 22,
   "metadata": {},
   "outputs": [],
   "source": [
    "qm_rdkit1 = test_mol1.to_rdkit()\n",
    "qm_conf1 = qm_rdkit1.GetConformer()"
   ]
  },
  {
   "cell_type": "markdown",
   "metadata": {},
   "source": [
    "### Geometries"
   ]
  },
  {
   "cell_type": "code",
   "execution_count": 23,
   "metadata": {},
   "outputs": [],
   "source": [
    "atoms1=[a for a in opt1_sage200.GetAtoms()]"
   ]
  },
  {
   "cell_type": "code",
   "execution_count": 24,
   "metadata": {},
   "outputs": [],
   "source": [
    "atom_indices_s1 = [a.GetIdx() for a in atoms1 if a.GetSymbol() == 'S']"
   ]
  },
  {
   "cell_type": "code",
   "execution_count": 25,
   "metadata": {},
   "outputs": [],
   "source": [
    "atom_indices_n1 = [a.GetIdx() for a in atoms1 if a.GetSymbol()=='N']"
   ]
  },
  {
   "cell_type": "code",
   "execution_count": 26,
   "metadata": {},
   "outputs": [],
   "source": [
    "atom_indices_o1 = [a.GetIdx() for a in atoms1 if a.GetSymbol()=='O']"
   ]
  },
  {
   "cell_type": "code",
   "execution_count": 27,
   "metadata": {},
   "outputs": [
    {
     "name": "stdout",
     "output_type": "stream",
     "text": [
      "[12]\n",
      "[11, 13]\n",
      "[9, 10, 14, 15]\n"
     ]
    }
   ],
   "source": [
    "print(atom_indices_s1)\n",
    "print(atom_indices_n1)\n",
    "print(atom_indices_o1)"
   ]
  },
  {
   "cell_type": "code",
   "execution_count": 28,
   "metadata": {},
   "outputs": [],
   "source": [
    "s = atom_indices_s1[0]\n",
    "n1,n2 = atom_indices_n1\n",
    "o1,o2 = atom_indices_o1[2:]"
   ]
  },
  {
   "cell_type": "code",
   "execution_count": 29,
   "metadata": {},
   "outputs": [
    {
     "data": {
      "text/plain": [
       "1.6843525337217278"
      ]
     },
     "execution_count": 29,
     "metadata": {},
     "output_type": "execute_result"
    }
   ],
   "source": [
    "Chem.rdMolTransforms.GetBondLength(opt1_sage200_conf,s,n1) # N"
   ]
  },
  {
   "cell_type": "code",
   "execution_count": 30,
   "metadata": {},
   "outputs": [
    {
     "data": {
      "text/plain": [
       "1.6141500481907425"
      ]
     },
     "execution_count": 30,
     "metadata": {},
     "output_type": "execute_result"
    }
   ],
   "source": [
    "Chem.rdMolTransforms.GetBondLength(opt1_sage200_conf,s,n2) # N"
   ]
  },
  {
   "cell_type": "code",
   "execution_count": 31,
   "metadata": {},
   "outputs": [
    {
     "data": {
      "text/plain": [
       "1.4612819353715265"
      ]
     },
     "execution_count": 31,
     "metadata": {},
     "output_type": "execute_result"
    }
   ],
   "source": [
    "Chem.rdMolTransforms.GetBondLength(opt1_sage200_conf,s,o1) # O"
   ]
  },
  {
   "cell_type": "code",
   "execution_count": 32,
   "metadata": {},
   "outputs": [
    {
     "data": {
      "text/plain": [
       "1.4605230793477002"
      ]
     },
     "execution_count": 32,
     "metadata": {},
     "output_type": "execute_result"
    }
   ],
   "source": [
    "Chem.rdMolTransforms.GetBondLength(opt1_sage200_conf,s ,o2) # O"
   ]
  },
  {
   "cell_type": "code",
   "execution_count": 33,
   "metadata": {},
   "outputs": [
    {
     "name": "stdout",
     "output_type": "stream",
     "text": [
      "N1 - S - N2: 63.47608125120574\n",
      "N1 - S - O1: 113.42871751376049\n",
      "N1 - S - O2: 111.46036387456668\n",
      "O1 - S - O2: 116.0529900118958\n"
     ]
    }
   ],
   "source": [
    "print('N1 - S - N2:',Chem.rdMolTransforms.GetAngleDeg(opt1_sage200_conf,n1,s,n2)) # N1 - S - N2\n",
    "print('N1 - S - O1:',Chem.rdMolTransforms.GetAngleDeg(opt1_sage200_conf,n1,s,o1)) # N1 - S - O1\n",
    "print('N1 - S - O2:',Chem.rdMolTransforms.GetAngleDeg(opt1_sage200_conf,n1,s,o2)) # N1 - S - O2\n",
    "print('O1 - S - O2:',Chem.rdMolTransforms.GetAngleDeg(opt1_sage200_conf,o1,s,o2)) # O1 - S - O2\n"
   ]
  },
  {
   "cell_type": "code",
   "execution_count": 34,
   "metadata": {},
   "outputs": [
    {
     "name": "stdout",
     "output_type": "stream",
     "text": [
      "N1 - S - N2: 98.99114386806883\n",
      "N1 - S - O1: 116.55567527264776\n",
      "N1 - S - O2: 109.78110720263066\n",
      "O1 - S - O2: 122.71325775724155\n"
     ]
    }
   ],
   "source": [
    "print('N1 - S - N2:',Chem.rdMolTransforms.GetAngleDeg(opt1_sage210_conf,n1,s,n2)) # N1 - S - N2\n",
    "print('N1 - S - O1:',Chem.rdMolTransforms.GetAngleDeg(opt1_sage210_conf,n1,s,o1)) # N1 - S - O1\n",
    "print('N1 - S - O2:',Chem.rdMolTransforms.GetAngleDeg(opt1_sage210_conf,n1,s,o2)) # N1 - S - O2\n",
    "print('O1 - S - O2:',Chem.rdMolTransforms.GetAngleDeg(opt1_sage210_conf,o1,s,o2)) # O1 - S - O2\n"
   ]
  },
  {
   "cell_type": "code",
   "execution_count": 35,
   "metadata": {},
   "outputs": [
    {
     "name": "stdout",
     "output_type": "stream",
     "text": [
      "N1 - S - N2: 103.25878214571215\n",
      "N1 - S - O1: 111.73114257116715\n",
      "N1 - S - O2: 106.93879395727107\n",
      "O1 - S - O2: 123.81954086901293\n"
     ]
    }
   ],
   "source": [
    "print('N1 - S - N2:',Chem.rdMolTransforms.GetAngleDeg(opt1_sage220_conf,n1,s,n2)) # N1 - S - N2\n",
    "print('N1 - S - O1:',Chem.rdMolTransforms.GetAngleDeg(opt1_sage220_conf,n1,s,o1)) # N1 - S - O1\n",
    "print('N1 - S - O2:',Chem.rdMolTransforms.GetAngleDeg(opt1_sage220_conf,n1,s,o2)) # N1 - S - O2\n",
    "print('O1 - S - O2:',Chem.rdMolTransforms.GetAngleDeg(opt1_sage220_conf,o1,s,o2)) # O1 - S - O2\n"
   ]
  },
  {
   "cell_type": "code",
   "execution_count": 36,
   "metadata": {},
   "outputs": [
    {
     "name": "stdout",
     "output_type": "stream",
     "text": [
      "N1 - S - N2: 103.02876388391553\n",
      "N1 - S - O1: 111.61228299733904\n",
      "N1 - S - O2: 106.83915866217968\n",
      "O1 - S - O2: 123.99766028136226\n"
     ]
    }
   ],
   "source": [
    "print('N1 - S - N2:',Chem.rdMolTransforms.GetAngleDeg(opt1_sage221_conf,n1,s,n2)) # N1 - S - N2\n",
    "print('N1 - S - O1:',Chem.rdMolTransforms.GetAngleDeg(opt1_sage221_conf,n1,s,o1)) # N1 - S - O1\n",
    "print('N1 - S - O2:',Chem.rdMolTransforms.GetAngleDeg(opt1_sage221_conf,n1,s,o2)) # N1 - S - O2\n",
    "print('O1 - S - O2:',Chem.rdMolTransforms.GetAngleDeg(opt1_sage221_conf,o1,s,o2)) # O1 - S - O2\n"
   ]
  },
  {
   "cell_type": "code",
   "execution_count": 37,
   "metadata": {},
   "outputs": [
    {
     "name": "stdout",
     "output_type": "stream",
     "text": [
      "N1 - S - N2: 99.05909762234637\n",
      "N1 - S - O1: 115.56915967238257\n",
      "N1 - S - O2: 107.47423723768361\n",
      "O1 - S - O2: 118.59078484711998\n"
     ]
    }
   ],
   "source": [
    "print('N1 - S - N2:',Chem.rdMolTransforms.GetAngleDeg(qm_conf1,n1,s,n2)) # N1 - S - N2\n",
    "print('N1 - S - O1:',Chem.rdMolTransforms.GetAngleDeg(qm_conf1,n1,s,o1)) # N1 - S - O1\n",
    "print('N1 - S - O2:',Chem.rdMolTransforms.GetAngleDeg(qm_conf1,n1,s,o2)) # N1 - S - O2\n",
    "print('O1 - S - O2:',Chem.rdMolTransforms.GetAngleDeg(qm_conf1,o1,s,o2)) # O1 - S - O2"
   ]
  },
  {
   "cell_type": "markdown",
   "metadata": {},
   "source": [
    "# Molecule 31, QCArchive ID 36972425\n",
    "\n",
    "Bad with Sage 2.0 and 2.1, fixed with 2.2\n",
    "\n",
    "Has many conformers--index 29-38. Some are distorted, some aren't"
   ]
  },
  {
   "cell_type": "code",
   "execution_count": 38,
   "metadata": {},
   "outputs": [],
   "source": [
    "# test_mol2 = industry_benchmark_rm[31][1]\n",
    "# test_mol2"
   ]
  },
  {
   "cell_type": "code",
   "execution_count": 39,
   "metadata": {},
   "outputs": [],
   "source": [
    "# test_mol2.to_file('qcaid_36972425.sdf',file_format='sdf')"
   ]
  },
  {
   "cell_type": "code",
   "execution_count": 40,
   "metadata": {},
   "outputs": [],
   "source": [
    "test_mol2 = Molecule.from_file('qcaid_36972425.sdf')"
   ]
  },
  {
   "cell_type": "code",
   "execution_count": 42,
   "metadata": {},
   "outputs": [],
   "source": [
    "ie_sage200_qm2,me_sage200_qm,min_mol_sage200_qm2 = minimize_energy(test_mol2,ForceField('openff_unconstrained-2.0.0.offxml'))\n",
    "u_sage200_2 = mda.Universe(min_mol_sage200_qm2.to_rdkit())\n",
    "u_sage200_2.atoms.write(\"sage-200_qcaid_36972425_opt.pdb\")"
   ]
  },
  {
   "cell_type": "code",
   "execution_count": 43,
   "metadata": {},
   "outputs": [],
   "source": [
    "ie_sage210_qm2,me_sage210_qm2,min_mol_sage210_qm2 = minimize_energy(test_mol2,ForceField('openff_unconstrained-2.1.0.offxml'))\n",
    "u_sage210_2 = mda.Universe(min_mol_sage210_qm2.to_rdkit())\n",
    "u_sage210_2.atoms.write(\"sage-210_qcaid_36972425_opt.pdb\")"
   ]
  },
  {
   "cell_type": "code",
   "execution_count": 45,
   "metadata": {},
   "outputs": [],
   "source": [
    "ie_sage220_qm2,me_sage220_qm2,min_mol_sage220_qm2 = minimize_energy(test_mol2,ForceField('../../../openff_unconstrained-2.2.0.offxml',allow_cosmetic_attributes=True))\n",
    "u_sage220_2 = mda.Universe(min_mol_sage220_qm2.to_rdkit())\n",
    "u_sage220_2.atoms.write(\"sage-220_qcaid_36972425_opt.pdb\")"
   ]
  },
  {
   "cell_type": "code",
   "execution_count": 46,
   "metadata": {},
   "outputs": [],
   "source": [
    "ie_sage221_qm2,me_sage221_qm2,min_mol_sage221_qm2 = minimize_energy(test_mol2,ForceField('../../../openff_unconstrained-2.2.1-rc1.offxml',allow_cosmetic_attributes=True))\n",
    "u_sage221_2 = mda.Universe(min_mol_sage221_qm2.to_rdkit())\n",
    "u_sage221_2.atoms.write(\"sage-221_qcaid_36972425_opt.pdb\")"
   ]
  },
  {
   "cell_type": "code",
   "execution_count": 69,
   "metadata": {},
   "outputs": [],
   "source": [
    "u_qm_2 = mda.Universe(test_mol2.to_rdkit())\n",
    "u_qm_2.atoms.write(\"qm_qcaid_36972425_opt.pdb\")"
   ]
  },
  {
   "cell_type": "code",
   "execution_count": 47,
   "metadata": {},
   "outputs": [],
   "source": [
    "min_mol_sage220_qm2.to_file('qcaid_36972425_optsage220.sdf',file_format='sdf')\n",
    "min_mol_sage221_qm2.to_file('qcaid_36972425_optsage221.sdf',file_format='sdf')"
   ]
  },
  {
   "cell_type": "code",
   "execution_count": 48,
   "metadata": {},
   "outputs": [],
   "source": [
    "opt2_sage200 = min_mol_sage200_qm2.to_rdkit()\n",
    "opt2_sage200_conf = opt2_sage200.GetConformer()"
   ]
  },
  {
   "cell_type": "code",
   "execution_count": 49,
   "metadata": {},
   "outputs": [],
   "source": [
    "opt2_sage210 = min_mol_sage210_qm2.to_rdkit()\n",
    "opt2_sage210_conf = opt2_sage210.GetConformer()"
   ]
  },
  {
   "cell_type": "code",
   "execution_count": 50,
   "metadata": {},
   "outputs": [],
   "source": [
    "opt2_sage220 = min_mol_sage220_qm2.to_rdkit()\n",
    "opt2_sage220_conf = opt2_sage220.GetConformer()"
   ]
  },
  {
   "cell_type": "code",
   "execution_count": 51,
   "metadata": {},
   "outputs": [],
   "source": [
    "opt2_sage221 = min_mol_sage221_qm2.to_rdkit()\n",
    "opt2_sage221_conf = opt2_sage221.GetConformer()"
   ]
  },
  {
   "cell_type": "code",
   "execution_count": 52,
   "metadata": {},
   "outputs": [],
   "source": [
    "qm_rdkit2 = test_mol2.to_rdkit()\n",
    "qm_conf2 = qm_rdkit2.GetConformer()"
   ]
  },
  {
   "cell_type": "markdown",
   "metadata": {},
   "source": [
    "### Geometries"
   ]
  },
  {
   "cell_type": "code",
   "execution_count": 53,
   "metadata": {},
   "outputs": [],
   "source": [
    "atoms2=[a for a in opt2_sage200.GetAtoms()]"
   ]
  },
  {
   "cell_type": "code",
   "execution_count": 54,
   "metadata": {},
   "outputs": [],
   "source": [
    "atom_indices_s2 = [a.GetIdx() for a in atoms2 if a.GetSymbol() == 'S']\n",
    "atom_indices_n2 = [a.GetIdx() for a in atoms2 if a.GetSymbol()=='N']\n",
    "atom_indices_o2 = [a.GetIdx() for a in atoms2 if a.GetSymbol()=='O']"
   ]
  },
  {
   "cell_type": "code",
   "execution_count": 55,
   "metadata": {},
   "outputs": [
    {
     "name": "stdout",
     "output_type": "stream",
     "text": [
      "[13]\n",
      "[12, 16]\n",
      "[4, 14, 15]\n"
     ]
    }
   ],
   "source": [
    "print(atom_indices_s2)\n",
    "print(atom_indices_n2)\n",
    "print(atom_indices_o2)"
   ]
  },
  {
   "cell_type": "code",
   "execution_count": 56,
   "metadata": {},
   "outputs": [],
   "source": [
    "s = atom_indices_s2[0]\n",
    "n1,n2 = atom_indices_n2\n",
    "o1,o2 = atom_indices_o2[1:]"
   ]
  },
  {
   "cell_type": "code",
   "execution_count": 57,
   "metadata": {},
   "outputs": [
    {
     "data": {
      "text/plain": [
       "1.6647789716184596"
      ]
     },
     "execution_count": 57,
     "metadata": {},
     "output_type": "execute_result"
    }
   ],
   "source": [
    "Chem.rdMolTransforms.GetBondLength(opt2_sage200_conf,s,n1) # N"
   ]
  },
  {
   "cell_type": "code",
   "execution_count": 58,
   "metadata": {},
   "outputs": [
    {
     "data": {
      "text/plain": [
       "1.6142719025528554"
      ]
     },
     "execution_count": 58,
     "metadata": {},
     "output_type": "execute_result"
    }
   ],
   "source": [
    "Chem.rdMolTransforms.GetBondLength(opt2_sage200_conf,s,n2) # N"
   ]
  },
  {
   "cell_type": "code",
   "execution_count": 59,
   "metadata": {},
   "outputs": [
    {
     "data": {
      "text/plain": [
       "1.459182943800153"
      ]
     },
     "execution_count": 59,
     "metadata": {},
     "output_type": "execute_result"
    }
   ],
   "source": [
    "Chem.rdMolTransforms.GetBondLength(opt2_sage200_conf,s,o1) # O"
   ]
  },
  {
   "cell_type": "code",
   "execution_count": 60,
   "metadata": {},
   "outputs": [
    {
     "data": {
      "text/plain": [
       "1.4601189005964996"
      ]
     },
     "execution_count": 60,
     "metadata": {},
     "output_type": "execute_result"
    }
   ],
   "source": [
    "Chem.rdMolTransforms.GetBondLength(opt2_sage200_conf,s ,o2) # O"
   ]
  },
  {
   "cell_type": "code",
   "execution_count": 61,
   "metadata": {},
   "outputs": [
    {
     "name": "stdout",
     "output_type": "stream",
     "text": [
      "N1 - S - N2: 72.0450096074957\n",
      "N1 - S - O1: 115.37159939182366\n",
      "N2 - S - O1: 79.1833259591064\n",
      "N1 - S - O2: 114.2494046319114\n",
      "O1 - S - O2: 115.78921157369467\n"
     ]
    }
   ],
   "source": [
    "print('N1 - S - N2:',Chem.rdMolTransforms.GetAngleDeg(opt2_sage200_conf,n1,s,n2)) # N1 - S - N2\n",
    "print('N1 - S - O1:',Chem.rdMolTransforms.GetAngleDeg(opt2_sage200_conf,n1,s,o1)) # N1 - S - O1\n",
    "print('N2 - S - O1:',Chem.rdMolTransforms.GetAngleDeg(opt2_sage200_conf,n2,s,o1)) # N1 - S - O1\n",
    "print('N1 - S - O2:',Chem.rdMolTransforms.GetAngleDeg(opt2_sage200_conf,n1,s,o2)) # N1 - S - O2\n",
    "print('O1 - S - O2:',Chem.rdMolTransforms.GetAngleDeg(opt2_sage200_conf,o1,s,o2)) # O1 - S - O2\n"
   ]
  },
  {
   "cell_type": "code",
   "execution_count": 62,
   "metadata": {},
   "outputs": [
    {
     "name": "stdout",
     "output_type": "stream",
     "text": [
      "N1 - S - N2: 77.85793010230469\n",
      "N1 - S - O1: 115.38856003526233\n",
      "N2 - S - O1: 83.32978080305587\n",
      "N1 - S - O2: 114.57483123650795\n",
      "O1 - S - O2: 124.07650805400796\n"
     ]
    }
   ],
   "source": [
    "print('N1 - S - N2:',Chem.rdMolTransforms.GetAngleDeg(opt2_sage210_conf,n1,s,n2)) # N1 - S - N2\n",
    "print('N1 - S - O1:',Chem.rdMolTransforms.GetAngleDeg(opt2_sage210_conf,n1,s,o1)) # N1 - S - O1\n",
    "print('N2 - S - O1:',Chem.rdMolTransforms.GetAngleDeg(opt2_sage210_conf,n2,s,o1)) # N1 - S - O1\n",
    "print('N1 - S - O2:',Chem.rdMolTransforms.GetAngleDeg(opt2_sage210_conf,n1,s,o2)) # N1 - S - O2\n",
    "print('O1 - S - O2:',Chem.rdMolTransforms.GetAngleDeg(opt2_sage210_conf,o1,s,o2)) # O1 - S - O2\n",
    "\n"
   ]
  },
  {
   "cell_type": "code",
   "execution_count": 63,
   "metadata": {},
   "outputs": [
    {
     "name": "stdout",
     "output_type": "stream",
     "text": [
      "N1 - S - N2: 103.35612593977908\n",
      "N1 - S - O1: 108.4346294918543\n",
      "N2 - S - O1: 102.6171321476026\n",
      "N1 - S - O2: 110.62904723347857\n",
      "O1 - S - O2: 126.03112454987792\n"
     ]
    }
   ],
   "source": [
    "print('N1 - S - N2:',Chem.rdMolTransforms.GetAngleDeg(opt2_sage220_conf,n1,s,n2)) # N1 - S - N2\n",
    "print('N1 - S - O1:',Chem.rdMolTransforms.GetAngleDeg(opt2_sage220_conf,n1,s,o1)) # N1 - S - O1\n",
    "print('N2 - S - O1:',Chem.rdMolTransforms.GetAngleDeg(opt2_sage220_conf,n2,s,o1)) # N1 - S - O1\n",
    "print('N1 - S - O2:',Chem.rdMolTransforms.GetAngleDeg(opt2_sage220_conf,n1,s,o2)) # N1 - S - O2\n",
    "print('O1 - S - O2:',Chem.rdMolTransforms.GetAngleDeg(opt2_sage220_conf,o1,s,o2)) # O1 - S - O2"
   ]
  },
  {
   "cell_type": "code",
   "execution_count": 65,
   "metadata": {},
   "outputs": [
    {
     "name": "stdout",
     "output_type": "stream",
     "text": [
      "N1 - S - N2: 103.79500523605871\n",
      "N1 - S - O1: 108.35736932709855\n",
      "N2 - S - O1: 102.62497073634181\n",
      "N1 - S - O2: 110.54361207027118\n",
      "O1 - S - O2: 125.95797254723863\n"
     ]
    }
   ],
   "source": [
    "print('N1 - S - N2:',Chem.rdMolTransforms.GetAngleDeg(opt2_sage221_conf,n1,s,n2)) # N1 - S - N2\n",
    "print('N1 - S - O1:',Chem.rdMolTransforms.GetAngleDeg(opt2_sage221_conf,n1,s,o1)) # N1 - S - O1\n",
    "print('N2 - S - O1:',Chem.rdMolTransforms.GetAngleDeg(opt2_sage221_conf,n2,s,o1)) # N1 - S - O1\n",
    "print('N1 - S - O2:',Chem.rdMolTransforms.GetAngleDeg(opt2_sage221_conf,n1,s,o2)) # N1 - S - O2\n",
    "print('O1 - S - O2:',Chem.rdMolTransforms.GetAngleDeg(opt2_sage221_conf,o1,s,o2)) # O1 - S - O2"
   ]
  },
  {
   "cell_type": "code",
   "execution_count": 64,
   "metadata": {},
   "outputs": [
    {
     "name": "stdout",
     "output_type": "stream",
     "text": [
      "N1 - S - N2: 110.18671827912529\n",
      "N1 - S - O1: 105.13824121121552\n",
      "N2 - S - O1: 105.55160323063248\n",
      "N1 - S - O2: 106.29639112707902\n",
      "O1 - S - O2: 124.68927907251683\n"
     ]
    }
   ],
   "source": [
    "print('N1 - S - N2:',Chem.rdMolTransforms.GetAngleDeg(qm_conf2,n1,s,n2)) # N1 - S - N2\n",
    "print('N1 - S - O1:',Chem.rdMolTransforms.GetAngleDeg(qm_conf2,n1,s,o1)) # N1 - S - O1\n",
    "print('N2 - S - O1:',Chem.rdMolTransforms.GetAngleDeg(qm_conf2,n2,s,o1)) # N1 - S - O1\n",
    "print('N1 - S - O2:',Chem.rdMolTransforms.GetAngleDeg(qm_conf2,n1,s,o2)) # N1 - S - O2\n",
    "print('O1 - S - O2:',Chem.rdMolTransforms.GetAngleDeg(qm_conf2,o1,s,o2)) # O1 - S - O2"
   ]
  },
  {
   "cell_type": "code",
   "execution_count": null,
   "metadata": {},
   "outputs": [],
   "source": []
  }
 ],
 "metadata": {
  "kernelspec": {
   "display_name": "Python (yammbs)",
   "language": "python",
   "name": "yammbs"
  },
  "language_info": {
   "codemirror_mode": {
    "name": "ipython",
    "version": 3
   },
   "file_extension": ".py",
   "mimetype": "text/x-python",
   "name": "python",
   "nbconvert_exporter": "python",
   "pygments_lexer": "ipython3",
   "version": "3.10.14"
  }
 },
 "nbformat": 4,
 "nbformat_minor": 4
}
