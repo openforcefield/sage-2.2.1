{
 "cells": [
  {
   "cell_type": "markdown",
   "metadata": {},
   "source": [
    "# Examining problematic sulfonamide geometries\n",
    "\n",
    "Molecules pulled from sage-2.2.0 repo."
   ]
  },
  {
   "cell_type": "code",
   "execution_count": 1,
   "metadata": {},
   "outputs": [],
   "source": [
    "from openff.toolkit.topology import Molecule, Topology\n",
    "from openff.toolkit.typing.engines.smirnoff import ForceField\n",
    "from openff.units import unit\n",
    "\n",
    "from openff.interchange import Interchange\n",
    "from openff.interchange.drivers import get_gromacs_energies, get_openmm_energies\n",
    "import multiprocessing\n",
    "import tqdm\n",
    "import numpy as np\n",
    "import sys\n",
    "import openmm\n",
    "from openff.units.openmm import from_openmm\n",
    "import os\n",
    "# suppress stereochemistry warnings\n",
    "import logging\n",
    "from rdkit import Chem\n",
    "import itertools\n",
    "\n",
    "from openff.qcsubmit.results import TorsionDriveResultCollection, OptimizationResultCollection\n",
    "import logging\n",
    "logging.getLogger(\"openff\").setLevel(logging.ERROR)\n",
    "\n",
    "from openff.qcsubmit.results.filters import SMARTSFilter\n",
    "\n",
    "from rdkit import Chem\n",
    "from rdkit.Chem import AllChem\n",
    "from rdkit.Chem import rdMolTransforms\n",
    "\n",
    "import MDAnalysis as mda"
   ]
  },
  {
   "cell_type": "code",
   "execution_count": 2,
   "metadata": {},
   "outputs": [],
   "source": [
    "def minimize_energy(mol,ff):\n",
    "    topo = mol.to_topology()\n",
    "    interchange = Interchange.from_smirnoff(force_field=ff, topology=topo,allow_nonintegral_charges=True)#,charge_from_molecules=[mol]) #,charge_from_molecules=[mol])\n",
    "    integrator = openmm.VerletIntegrator(1 * openmm.unit.femtoseconds)\n",
    "    simulation = interchange.to_openmm_simulation(integrator)\n",
    "\n",
    "    # We'll store energies in two lists\n",
    "    initial_energies = []\n",
    "    minimized_energies = []\n",
    "\n",
    "    # And minimized conformers in a second molecule\n",
    "    minimized_molecule = Molecule.from_topology(topo)\n",
    "    minimized_molecule.conformers.clear()\n",
    "\n",
    "    conformer = mol.conformers[0]\n",
    "    # Tell the OpenMM Simulation the positions of this conformer\n",
    "    simulation.context.setPositions(conformer.to_openmm())\n",
    "\n",
    "    # Keep a record of the initial energy\n",
    "    initial_energies.append(\n",
    "        simulation.context.getState(getEnergy=True).getPotentialEnergy()\n",
    "    )\n",
    "\n",
    "    # Perform the minimization\n",
    "    simulation.minimizeEnergy()#tolerance=Quantity(value=0.0026255, unit=kilojoule/mole))#tolerance=5e-9)\n",
    "\n",
    "    # Record minimized energy and positions\n",
    "    min_state = simulation.context.getState(getEnergy=True, getPositions=True)\n",
    "\n",
    "    minimized_energies.append(min_state.getPotentialEnergy())\n",
    "    minimized_molecule.add_conformer(from_openmm(min_state.getPositions()))\n",
    "    return initial_energies,minimized_energies,minimized_molecule\n"
   ]
  },
  {
   "cell_type": "markdown",
   "metadata": {},
   "source": [
    "Choosing a few problem cases:"
   ]
  },
  {
   "cell_type": "markdown",
   "metadata": {},
   "source": [
    "# Molecule 38, QCArchive ID 36973709\n",
    "Bad with Sage 2.0.0 and 2.1, fixed in 2.2"
   ]
  },
  {
   "cell_type": "code",
   "execution_count": 72,
   "metadata": {},
   "outputs": [
    {
     "data": {
      "application/vnd.jupyter.widget-view+json": {
       "model_id": "e4c08ca5cb79482d97a5922fcdc03256",
       "version_major": 2,
       "version_minor": 0
      },
      "text/plain": [
       "NGLWidget()"
      ]
     },
     "metadata": {},
     "output_type": "display_data"
    }
   ],
   "source": [
    "# test_mol1 = industry_benchmark_rm[28][1]\n",
    "# test_mol1"
   ]
  },
  {
   "cell_type": "code",
   "execution_count": 73,
   "metadata": {},
   "outputs": [],
   "source": [
    "# test_mol1.to_file('qcaid_36973709.sdf',file_format='sdf')"
   ]
  },
  {
   "cell_type": "code",
   "execution_count": 3,
   "metadata": {},
   "outputs": [
    {
     "data": {
      "image/png": "[encoded data removed]",
      "text/plain": [
       "<rdkit.Chem.rdchem.Mol at 0x19e332430>"
      ]
     },
     "execution_count": 3,
     "metadata": {},
     "output_type": "execute_result"
    }
   ],
   "source": [
    "test_mol1 = Molecule.from_file('qcaid_36973709.sdf')\n",
    "test_mol1.to_rdkit()"
   ]
  },
  {
   "cell_type": "code",
   "execution_count": 4,
   "metadata": {},
   "outputs": [],
   "source": [
    "ie_sage200_qm1,me_sage200_qm1,min_mol_sage200_qm1 = minimize_energy(test_mol1,ForceField('openff_unconstrained-2.0.0.offxml'))"
   ]
  },
  {
   "cell_type": "code",
   "execution_count": 5,
   "metadata": {},
   "outputs": [
    {
     "name": "stderr",
     "output_type": "stream",
     "text": [
      "/Users/lily/micromamba/envs/yammbs/lib/python3.10/site-packages/MDAnalysis/coordinates/PDB.py:777: UserWarning: Unit cell dimensions not found. CRYST1 record set to unitary values.\n",
      "  warnings.warn(\"Unit cell dimensions not found. \"\n",
      "/Users/lily/micromamba/envs/yammbs/lib/python3.10/site-packages/MDAnalysis/coordinates/PDB.py:1153: UserWarning: Found no information for attr: 'altLocs' Using default value of ' '\n",
      "  warnings.warn(\"Found no information for attr: '{}'\"\n",
      "/Users/lily/micromamba/envs/yammbs/lib/python3.10/site-packages/MDAnalysis/coordinates/PDB.py:1153: UserWarning: Found no information for attr: 'resnames' Using default value of 'UNK'\n",
      "  warnings.warn(\"Found no information for attr: '{}'\"\n",
      "/Users/lily/micromamba/envs/yammbs/lib/python3.10/site-packages/MDAnalysis/coordinates/PDB.py:1153: UserWarning: Found no information for attr: 'icodes' Using default value of ' '\n",
      "  warnings.warn(\"Found no information for attr: '{}'\"\n",
      "/Users/lily/micromamba/envs/yammbs/lib/python3.10/site-packages/MDAnalysis/coordinates/PDB.py:1153: UserWarning: Found no information for attr: 'chainIDs' Using default value of ''\n",
      "  warnings.warn(\"Found no information for attr: '{}'\"\n",
      "/Users/lily/micromamba/envs/yammbs/lib/python3.10/site-packages/MDAnalysis/coordinates/PDB.py:1153: UserWarning: Found no information for attr: 'occupancies' Using default value of '1.0'\n",
      "  warnings.warn(\"Found no information for attr: '{}'\"\n",
      "/Users/lily/micromamba/envs/yammbs/lib/python3.10/site-packages/MDAnalysis/coordinates/PDB.py:1153: UserWarning: Found no information for attr: 'tempfactors' Using default value of '0.0'\n",
      "  warnings.warn(\"Found no information for attr: '{}'\"\n",
      "/Users/lily/micromamba/envs/yammbs/lib/python3.10/site-packages/MDAnalysis/coordinates/PDB.py:1153: UserWarning: Found no information for attr: 'record_types' Using default value of 'ATOM'\n",
      "  warnings.warn(\"Found no information for attr: '{}'\"\n",
      "/Users/lily/micromamba/envs/yammbs/lib/python3.10/site-packages/MDAnalysis/coordinates/PDB.py:1153: UserWarning: Found no information for attr: 'formalcharges' Using default value of '0'\n",
      "  warnings.warn(\"Found no information for attr: '{}'\"\n",
      "/Users/lily/micromamba/envs/yammbs/lib/python3.10/site-packages/MDAnalysis/coordinates/PDB.py:1200: UserWarning: Found missing chainIDs. Corresponding atoms will use value of 'X'\n",
      "  warnings.warn(\"Found missing chainIDs.\"\n"
     ]
    }
   ],
   "source": [
    "u_sage200_min = mda.Universe(min_mol_sage200_qm1.to_rdkit())\n",
    "u_sage200_min.atoms.write(\"sage-200_qcaid_36973709_opt.pdb\")"
   ]
  },
  {
   "cell_type": "code",
   "execution_count": 8,
   "metadata": {},
   "outputs": [],
   "source": [
    "ie_sage210_qm1,me_sage210_qm1,min_mol_sage210_qm1 = minimize_energy(test_mol1,ForceField('openff_unconstrained-2.1.0.offxml'))"
   ]
  },
  {
   "cell_type": "code",
   "execution_count": 38,
   "metadata": {},
   "outputs": [],
   "source": [
    "u_sage210_min = mda.Universe(min_mol_sage210_qm1.to_rdkit())\n",
    "u_sage210_min.atoms.write(\"sage-210_qcaid_36973709_opt.pdb\")"
   ]
  },
  {
   "cell_type": "code",
   "execution_count": 13,
   "metadata": {},
   "outputs": [],
   "source": [
    "ie_sage220_qm1,me_sage220_qm1,min_mol_sage220_qm1 = minimize_energy(test_mol1,ForceField('../../../openff_unconstrained-2.2.0.offxml',allow_cosmetic_attributes=True))"
   ]
  },
  {
   "cell_type": "code",
   "execution_count": 14,
   "metadata": {},
   "outputs": [],
   "source": [
    "u_sage220_min = mda.Universe(min_mol_sage220_qm1.to_rdkit())\n",
    "u_sage220_min.atoms.write(\"sage-220_qcaid_36973709_opt.pdb\")"
   ]
  },
  {
   "cell_type": "code",
   "execution_count": 15,
   "metadata": {},
   "outputs": [],
   "source": [
    "ie_sage221_qm1,me_sage221_qm1,min_mol_sage221_qm1 = minimize_energy(test_mol1,ForceField('../../../openff_unconstrained-2.2.1-rc1.offxml',allow_cosmetic_attributes=True))"
   ]
  },
  {
   "cell_type": "code",
   "execution_count": 16,
   "metadata": {},
   "outputs": [],
   "source": [
    "u_sage221_min = mda.Universe(min_mol_sage221_qm1.to_rdkit())\n",
    "u_sage221_min.atoms.write(\"sage-221_qcaid_36973709_opt.pdb\")"
   ]
  },
  {
   "cell_type": "code",
   "execution_count": 39,
   "metadata": {},
   "outputs": [],
   "source": [
    "u_qm_min = mda.Universe(test_mol1.to_rdkit())\n",
    "u_qm_min.atoms.write(\"qm_qcaid_36973709_opt.pdb\")"
   ]
  },
  {
   "cell_type": "code",
   "execution_count": 17,
   "metadata": {},
   "outputs": [],
   "source": [
    "min_mol_sage221_qm1.to_file('qcaid_36973709_optsage221.sdf',file_format='sdf')"
   ]
  },
  {
   "cell_type": "code",
   "execution_count": 18,
   "metadata": {},
   "outputs": [],
   "source": [
    "opt1_sage200 = min_mol_sage200_qm1.to_rdkit()\n",
    "opt1_sage200_conf = opt1_sage200.GetConformer()"
   ]
  },
  {
   "cell_type": "code",
   "execution_count": 19,
   "metadata": {},
   "outputs": [],
   "source": [
    "opt1_sage210 = min_mol_sage210_qm1.to_rdkit()\n",
    "opt1_sage210_conf = opt1_sage210.GetConformer()"
   ]
  },
  {
   "cell_type": "code",
   "execution_count": 20,
   "metadata": {},
   "outputs": [],
   "source": [
    "opt1_sage220 = min_mol_sage220_qm1.to_rdkit()\n",
    "opt1_sage220_conf = opt1_sage220.GetConformer()"
   ]
  },
  {
   "cell_type": "code",
   "execution_count": 21,
   "metadata": {},
   "outputs": [],
   "source": [
    "opt1_sage221 = min_mol_sage221_qm1.to_rdkit()\n",
    "opt1_sage221_conf = opt1_sage221.GetConformer()"
   ]
  },
  {
   "cell_type": "code",
   "execution_count": 22,
   "metadata": {},
   "outputs": [],
   "source": [
    "qm_rdkit1 = test_mol1.to_rdkit()\n",
    "qm_conf1 = qm_rdkit1.GetConformer()"
   ]
  },
  {
   "cell_type": "markdown",
   "metadata": {},
   "source": [
    "### Geometries"
   ]
  },
  {
   "cell_type": "code",
   "execution_count": 23,
   "metadata": {},
   "outputs": [],
   "source": [
    "atoms1=[a for a in opt1_sage200.GetAtoms()]"
   ]
  },
  {
   "cell_type": "code",
   "execution_count": 24,
   "metadata": {},
   "outputs": [],
   "source": [
    "atom_indices_s1 = [a.GetIdx() for a in atoms1 if a.GetSymbol() == 'S']"
   ]
  },
  {
   "cell_type": "code",
   "execution_count": 25,
   "metadata": {},
   "outputs": [],
   "source": [
    "atom_indices_n1 = [a.GetIdx() for a in atoms1 if a.GetSymbol()=='N']"
   ]
  },
  {
   "cell_type": "code",
   "execution_count": 26,
   "metadata": {},
   "outputs": [],
   "source": [
    "atom_indices_o1 = [a.GetIdx() for a in atoms1 if a.GetSymbol()=='O']"
   ]
  },
  {
   "cell_type": "code",
   "execution_count": 27,
   "metadata": {},
   "outputs": [
    {
     "name": "stdout",
     "output_type": "stream",
     "text": [
      "[18]\n",
      "[21]\n",
      "[3, 4, 7, 11, 14, 17, 19, 20]\n"
     ]
    }
   ],
   "source": [
    "print(atom_indices_s1)\n",
    "print(atom_indices_n1)\n",
    "print(atom_indices_o1)"
   ]
  },
  {
   "cell_type": "code",
   "execution_count": 28,
   "metadata": {},
   "outputs": [],
   "source": [
    "s = atom_indices_s1[0]\n",
    "n1 = atom_indices_n1[0]\n",
    "o1,o2,o3 = atom_indices_o1[5:]"
   ]
  },
  {
   "cell_type": "code",
   "execution_count": 29,
   "metadata": {},
   "outputs": [
    {
     "data": {
      "text/plain": [
       "1.6206560883798915"
      ]
     },
     "execution_count": 29,
     "metadata": {},
     "output_type": "execute_result"
    }
   ],
   "source": [
    "Chem.rdMolTransforms.GetBondLength(opt1_sage200_conf,s,n1) # N"
   ]
  },
  {
   "cell_type": "code",
   "execution_count": 30,
   "metadata": {},
   "outputs": [
    {
     "data": {
      "text/plain": [
       "1.4608956862017417"
      ]
     },
     "execution_count": 30,
     "metadata": {},
     "output_type": "execute_result"
    }
   ],
   "source": [
    "Chem.rdMolTransforms.GetBondLength(opt1_sage200_conf,s,o3) # N"
   ]
  },
  {
   "cell_type": "code",
   "execution_count": 31,
   "metadata": {},
   "outputs": [
    {
     "data": {
      "text/plain": [
       "1.6606910455089654"
      ]
     },
     "execution_count": 31,
     "metadata": {},
     "output_type": "execute_result"
    }
   ],
   "source": [
    "Chem.rdMolTransforms.GetBondLength(opt1_sage200_conf,s,o1) # O"
   ]
  },
  {
   "cell_type": "code",
   "execution_count": 32,
   "metadata": {},
   "outputs": [
    {
     "data": {
      "text/plain": [
       "1.4644027359174516"
      ]
     },
     "execution_count": 32,
     "metadata": {},
     "output_type": "execute_result"
    }
   ],
   "source": [
    "Chem.rdMolTransforms.GetBondLength(opt1_sage200_conf,s ,o2) # O"
   ]
  },
  {
   "cell_type": "code",
   "execution_count": 33,
   "metadata": {},
   "outputs": [
    {
     "name": "stdout",
     "output_type": "stream",
     "text": [
      "N1 - S - N2: 98.2518601557458\n",
      "N1 - S - O1: 98.72508050463759\n",
      "N1 - S - O2: 98.66647197967072\n",
      "O1 - S - O2: 117.57388639620558\n"
     ]
    }
   ],
   "source": [
    "print('N1 - S - N2:',Chem.rdMolTransforms.GetAngleDeg(opt1_sage200_conf,n1,s,o3)) # N1 - S - N2\n",
    "print('N1 - S - O1:',Chem.rdMolTransforms.GetAngleDeg(opt1_sage200_conf,n1,s,o1)) # N1 - S - O1\n",
    "print('N1 - S - O2:',Chem.rdMolTransforms.GetAngleDeg(opt1_sage200_conf,n1,s,o2)) # N1 - S - O2\n",
    "print('O1 - S - O2:',Chem.rdMolTransforms.GetAngleDeg(opt1_sage200_conf,o1,s,o2)) # O1 - S - O2\n"
   ]
  },
  {
   "cell_type": "code",
   "execution_count": 34,
   "metadata": {},
   "outputs": [
    {
     "name": "stdout",
     "output_type": "stream",
     "text": [
      "N1 - S - N2: 87.52746498994652\n",
      "N1 - S - O1: 99.96892732534184\n",
      "N1 - S - O2: 88.96295700981113\n",
      "O1 - S - O2: 117.14814115411868\n"
     ]
    }
   ],
   "source": [
    "print('N1 - S - N2:',Chem.rdMolTransforms.GetAngleDeg(opt1_sage210_conf,n1,s,o3)) # N1 - S - N2\n",
    "print('N1 - S - O1:',Chem.rdMolTransforms.GetAngleDeg(opt1_sage210_conf,n1,s,o1)) # N1 - S - O1\n",
    "print('N1 - S - O2:',Chem.rdMolTransforms.GetAngleDeg(opt1_sage210_conf,n1,s,o2)) # N1 - S - O2\n",
    "print('O1 - S - O2:',Chem.rdMolTransforms.GetAngleDeg(opt1_sage210_conf,o1,s,o2)) # O1 - S - O2\n"
   ]
  },
  {
   "cell_type": "code",
   "execution_count": 35,
   "metadata": {},
   "outputs": [
    {
     "name": "stdout",
     "output_type": "stream",
     "text": [
      "N1 - S - N2: 99.09034514324298\n",
      "N1 - S - O1: 105.32834997158153\n",
      "N1 - S - O2: 101.61848376706394\n",
      "O1 - S - O2: 111.40002546065031\n"
     ]
    }
   ],
   "source": [
    "print('N1 - S - N2:',Chem.rdMolTransforms.GetAngleDeg(opt1_sage220_conf,n1,s,o3)) # N1 - S - N2\n",
    "print('N1 - S - O1:',Chem.rdMolTransforms.GetAngleDeg(opt1_sage220_conf,n1,s,o1)) # N1 - S - O1\n",
    "print('N1 - S - O2:',Chem.rdMolTransforms.GetAngleDeg(opt1_sage220_conf,n1,s,o2)) # N1 - S - O2\n",
    "print('O1 - S - O2:',Chem.rdMolTransforms.GetAngleDeg(opt1_sage220_conf,o1,s,o2)) # O1 - S - O2\n"
   ]
  },
  {
   "cell_type": "code",
   "execution_count": 37,
   "metadata": {},
   "outputs": [
    {
     "name": "stdout",
     "output_type": "stream",
     "text": [
      "N1 - S - N2: 99.08872900325532\n",
      "N1 - S - O1: 105.42148791490503\n",
      "N1 - S - O2: 100.95334120678255\n",
      "O1 - S - O2: 111.43378965795716\n"
     ]
    }
   ],
   "source": [
    "print('N1 - S - N2:',Chem.rdMolTransforms.GetAngleDeg(opt1_sage221_conf,n1,s,o3)) # N1 - S - N2\n",
    "print('N1 - S - O1:',Chem.rdMolTransforms.GetAngleDeg(opt1_sage221_conf,n1,s,o1)) # N1 - S - O1\n",
    "print('N1 - S - O2:',Chem.rdMolTransforms.GetAngleDeg(opt1_sage221_conf,n1,s,o2)) # N1 - S - O2\n",
    "print('O1 - S - O2:',Chem.rdMolTransforms.GetAngleDeg(opt1_sage221_conf,o1,s,o2)) # O1 - S - O2\n"
   ]
  },
  {
   "cell_type": "code",
   "execution_count": 36,
   "metadata": {},
   "outputs": [
    {
     "name": "stdout",
     "output_type": "stream",
     "text": [
      "N1 - S - N2: 106.32336151064213\n",
      "N1 - S - O1: 96.99080933223917\n",
      "N1 - S - O2: 111.58979989778157\n",
      "O1 - S - O2: 107.38300244083004\n"
     ]
    }
   ],
   "source": [
    "print('N1 - S - N2:',Chem.rdMolTransforms.GetAngleDeg(qm_conf1,n1,s,o3)) # N1 - S - N2\n",
    "print('N1 - S - O1:',Chem.rdMolTransforms.GetAngleDeg(qm_conf1,n1,s,o1)) # N1 - S - O1\n",
    "print('N1 - S - O2:',Chem.rdMolTransforms.GetAngleDeg(qm_conf1,n1,s,o2)) # N1 - S - O2\n",
    "print('O1 - S - O2:',Chem.rdMolTransforms.GetAngleDeg(qm_conf1,o1,s,o2)) # O1 - S - O2"
   ]
  }
 ],
 "metadata": {
  "kernelspec": {
   "display_name": "Python (yammbs)",
   "language": "python",
   "name": "yammbs"
  },
  "language_info": {
   "codemirror_mode": {
    "name": "ipython",
    "version": 3
   },
   "file_extension": ".py",
   "mimetype": "text/x-python",
   "name": "python",
   "nbconvert_exporter": "python",
   "pygments_lexer": "ipython3",
   "version": "3.10.14"
  }
 },
 "nbformat": 4,
 "nbformat_minor": 4
}
