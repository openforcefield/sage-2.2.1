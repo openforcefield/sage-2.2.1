{
 "cells": [
  {
   "cell_type": "markdown",
   "id": "d051f4a7-9a72-418b-b068-8d2e330a8db6",
   "metadata": {},
   "source": [
    "# Solvating and equilibrating a ligand in a box of water\n",
    "\n",
    "<details>\n",
    "    <summary><small>▼ Click here for dependency installation instructions</small></summary>\n",
    "    The simplest way to install dependencies is to use the Interchange examples environment. From the root of the cloned openff-interchange repository:\n",
    "    \n",
    "    conda env create --name interchange-examples --file devtools/conda-envs/examples_env.yaml \n",
    "    conda activate interchange-examples\n",
    "    pip install -e .\n",
    "    cd examples\n",
    "    jupyter notebook ligand_in_water.ipynb\n",
    "    \n",
    "</details>"
   ]
  },
  {
   "cell_type": "code",
   "execution_count": 12,
   "id": "4e9252d0-7e15-4289-b077-6f96d2b686f7",
   "metadata": {},
   "outputs": [],
   "source": [
    "import time\n",
    "\n",
    "import mdtraj\n",
    "import openmm\n",
    "import openmm.app\n",
    "from openff.toolkit import ForceField, Molecule, Topology\n",
    "from openff.units import unit\n",
    "from openff.units.openmm import from_openmm, to_openmm\n",
    "import numpy as np\n",
    "from openff.interchange import Interchange\n",
    "\n",
    "import MDAnalysis as mda"
   ]
  },
  {
   "cell_type": "markdown",
   "id": "65b68081-8655-4269-9fa8-9395db3f8230",
   "metadata": {},
   "source": [
    "## Construct the topology\n",
    "\n",
    "In this example we'll construct a topology consisting of one ligand in a cubic box of length 4 nanometers. For simplicity, we will use a prepared PDB file  (`solvated.pdb`) with the same number of waters, molecule and atom ordering, etc. We'll also use _mapped_ SMILES when creating `Molecule` objects to ensure the atom ordering matches. (Atom ordering is not strictly a part of SMILES and therefore liable to be changed with updates to RDKit.)\n",
    "\n",
    "This can be extended or modified by i.e.\n",
    "* Replacing this sample ligand with a different ligand of interest - substitute out the ligand SMILES\n",
    "* Using a different number of water molecules - substitute out the `2100` used below\n",
    "* Adding ions or co-solvents into the box - add more `Molecule` object as desired\n",
    "\n",
    "For each of these modifications, a new PDB file would need to be generated."
   ]
  },
  {
   "cell_type": "code",
   "execution_count": 2,
   "id": "a0e6136c-c0ca-44e5-bdbe-b19e5f6d549a",
   "metadata": {},
   "outputs": [],
   "source": [
    "ligand = Molecule.from_file('32_conf1_initial.sdf', allow_undefined_stereo=True)\n",
    "water = Molecule.from_mapped_smiles(\"[H:2][O:1][H:3]\")"
   ]
  },
  {
   "cell_type": "markdown",
   "id": "f97cda9e-b0a9-4788-b3c7-13d8b54c4aac",
   "metadata": {},
   "source": [
    "There are a few ways to convert the information in this trajectory to an Openff [`Topology`](https://docs.openforcefield.org/projects/toolkit/en/stable/api/generated/openff.toolkit.topology.Topology.html#openff.toolkit.topology.Topology) object. In this case, since we already know how many of which molecules we want, we'll use [`Topology.from_molecules`](https://docs.openforcefield.org/projects/toolkit/en/stable/api/generated/openff.toolkit.topology.Topology.html#openff.toolkit.topology.Topology.from_molecules), which takes a list of `Molecule` objects and assembles them into a `Topology`."
   ]
  },
  {
   "cell_type": "code",
   "execution_count": 3,
   "id": "572d1c2e-22ef-459e-a1bc-dacc56e293d3",
   "metadata": {},
   "outputs": [],
   "source": [
    "topology = Topology.from_molecules([ligand, *1791 * [water]])"
   ]
  },
  {
   "cell_type": "markdown",
   "id": "97cc87e8-ddd5-45f4-b08a-c7afac2afaf4",
   "metadata": {},
   "source": [
    "We'll also set the box vectors to match the prepared PDB file."
   ]
  },
  {
   "cell_type": "code",
   "execution_count": 4,
   "id": "b05d5a5e-62e5-4fa0-9d67-19bf1b0a601c",
   "metadata": {},
   "outputs": [],
   "source": [
    "topology.box_vectors = unit.Quantity(\n",
    "    mdtraj.load(\"solvated.pdb\").unitcell_lengths[0],\n",
    "    unit.nanometer,\n",
    ")"
   ]
  },
  {
   "cell_type": "markdown",
   "id": "4a0488fe-7ae0-450b-8fa8-c693a25ce383",
   "metadata": {},
   "source": [
    "And finally, set the positions of each molecule according to the data in the MDTraj object:"
   ]
  },
  {
   "cell_type": "markdown",
   "id": "64b7ea41-b4c9-4ae0-95dd-416a7fb0299f",
   "metadata": {},
   "source": [
    "The [\"Sage\"](https://openforcefield.org/community/news/general/sage2.0.0-release/) force field line (version 2.x.x) includes TIP3P  parameters for water, so we don't need to use multiple force fields to parametrize this topology as long as we're okay using TIP3P.\n",
    "\n",
    "Note that the \"Parsley\" (version 1.x.x) line did *not* include TIP3P parameters, so loading in an extra force field was required."
   ]
  },
  {
   "cell_type": "code",
   "execution_count": 5,
   "id": "9687547b-d6d0-4c38-b963-cca91b3127f7",
   "metadata": {},
   "outputs": [],
   "source": [
    "sage = ForceField(\"../../../openff_unconstrained-2.2.1-rc1.offxml\", allow_cosmetic_attributes=True)"
   ]
  },
  {
   "cell_type": "markdown",
   "id": "da7781fc-1adb-4ba9-af97-7c64649f36ef",
   "metadata": {},
   "source": [
    "From here, we can create an ``Interchange`` object and promptly export it to an [``openmm.System``](http://docs.openmm.org/latest/api-python/generated/openmm.openmm.System.html#openmm.openmm.System):"
   ]
  },
  {
   "cell_type": "markdown",
   "id": "455592d5-728d-457b-afcf-74579de5e45e",
   "metadata": {},
   "source": [
    "Note that these two steps (creating an `Interchange` object and exporting it to an [``openmm.System``](http://docs.openmm.org/latest/api-python/generated/openmm.openmm.System.html#openmm.openmm.System)) can equivalently be done in one step via [``ForceField.create_openmm_system``](https://docs.openforcefield.org/projects/toolkit/en/stable/api/generated/openff.toolkit.typing.engines.smirnoff.forcefield.ForceField.html#openff.toolkit.typing.engines.smirnoff.forcefield.ForceField.create_openmm_system)."
   ]
  },
  {
   "cell_type": "code",
   "execution_count": 6,
   "id": "54b39faf-eae9-4550-92bc-68794432ec59",
   "metadata": {},
   "outputs": [],
   "source": [
    "interchange: Interchange = Interchange.from_smirnoff(\n",
    "    force_field=sage, topology=topology\n",
    ")\n",
    "system: openmm.System = interchange.to_openmm(combine_nonbonded_forces=True)"
   ]
  },
  {
   "cell_type": "markdown",
   "id": "b2fc39b8-10f1-4fc2-a53b-b157ebb62270",
   "metadata": {},
   "source": [
    "Note that these two lines do essentially the same thing as calling `sage.create_openmm_system(topology)`, which can be used to the same result if only interested in using OpenMM. Here we explicitly store the intermediate `Interchange` object for later steps."
   ]
  },
  {
   "cell_type": "markdown",
   "id": "01cb5913-fe83-4003-aeeb-7fa22c2e9bf1",
   "metadata": {},
   "source": [
    "Finally, we need to set the positions according to the PDB file. There are plenty of ways to extract positions from a PDB file, here we'll use MDTraj."
   ]
  },
  {
   "cell_type": "code",
   "execution_count": 7,
   "id": "3afcd20e-2104-4d45-950c-596ad6c16837",
   "metadata": {},
   "outputs": [],
   "source": [
    "interchange.positions = unit.Quantity(\n",
    "    mdtraj.load(\"solvated.pdb\").xyz[0],\n",
    "    unit.nanometer,\n",
    ")"
   ]
  },
  {
   "cell_type": "markdown",
   "id": "a8548886-a0e5-408a-be1d-5ca13577246a",
   "metadata": {},
   "source": [
    "Now, we can prepare everything else that OpenMM needs to run and report a brief equilibration simulation:\n",
    "* A barostat, since we want to use NPT dynamics to relax the box size toward equilibrium\n",
    "* An integrator\n",
    "* A [`Simulation`](http://docs.openmm.org/latest/api-python/generated/openmm.app.simulation.Simulation.html#openmm.app.simulation.Simulation) object, putting it together\n",
    "* Reporters for the trajectory and simulation data\n",
    "\n",
    "For convenience, let's wrap some boilerplate code into a function that can be called again later with different inputs."
   ]
  },
  {
   "cell_type": "code",
   "execution_count": 8,
   "id": "b1e2da36-c11f-414f-a658-3b675d48d9c2",
   "metadata": {},
   "outputs": [],
   "source": [
    "def create_simulation(\n",
    "    system: openmm.System,\n",
    "    topology: openmm.app.Topology,\n",
    "    positions: openmm.unit.Quantity,\n",
    "    pdb_stride: int = 500,\n",
    ") -> openmm.app.Simulation:\n",
    "\n",
    "    barostat = openmm.MonteCarloBarostat(\n",
    "        1.00 * openmm.unit.bar, 293.15 * openmm.unit.kelvin, 25\n",
    "    )\n",
    "    system.addForce(barostat)\n",
    "\n",
    "    integrator = openmm.LangevinIntegrator(\n",
    "        300 * openmm.unit.kelvin,\n",
    "        1 / openmm.unit.picosecond,\n",
    "        1 * openmm.unit.femtoseconds,\n",
    "    )\n",
    "\n",
    "    simulation = openmm.app.Simulation(topology, system, integrator)\n",
    "    simulation.context.setPositions(positions)\n",
    "\n",
    "    # https://github.com/openmm/openmm/issues/3736#issuecomment-1217250635\n",
    "    simulation.minimizeEnergy()\n",
    "\n",
    "    simulation.context.setVelocitiesToTemperature(300 * openmm.unit.kelvin)\n",
    "    simulation.context.computeVirtualSites()\n",
    "\n",
    "    pdb_reporter = openmm.app.PDBReporter(\"trajectory.pdb\", pdb_stride)\n",
    "    state_data_reporter = openmm.app.StateDataReporter(\n",
    "        \"data.csv\", 10, step=True, potentialEnergy=True, temperature=True, density=True\n",
    "    )\n",
    "    simulation.reporters.append(pdb_reporter)\n",
    "    simulation.reporters.append(state_data_reporter)\n",
    "\n",
    "    return simulation"
   ]
  },
  {
   "cell_type": "code",
   "execution_count": 9,
   "id": "01b846a5-4ad5-45ab-a52b-43d2a1c95832",
   "metadata": {},
   "outputs": [],
   "source": [
    "simulation = create_simulation(\n",
    "    system, interchange.topology.to_openmm(), to_openmm(interchange.positions)\n",
    ")"
   ]
  },
  {
   "cell_type": "markdown",
   "id": "ad40a034-ccee-4417-a42c-01b167714b0d",
   "metadata": {},
   "source": [
    "Finally, we can run this simulation. This should take approximately 10-20 seconds on a laptop or small workstation.\n",
    "\n",
    "Again, let's wrap this up into a function to avoid copy-pasting code."
   ]
  },
  {
   "cell_type": "code",
   "execution_count": 10,
   "id": "6a635279-9f18-47cf-a5d5-8386d0edbd3a",
   "metadata": {},
   "outputs": [],
   "source": [
    "def run_simulation(simulation: openmm.app.Simulation, n_steps: int = 500):\n",
    "\n",
    "    print(\"Starting simulation\")\n",
    "    start_time = time.process_time()\n",
    "\n",
    "    print(\"Step, box lengths (nm)\")\n",
    "\n",
    "    for step in range(n_steps):\n",
    "        simulation.step(1)\n",
    "        if step % 500 == 0:\n",
    "            box_vectors = simulation.context.getState().getPeriodicBoxVectors()\n",
    "            print(step, [round(box_vectors[dim][dim]._value, 3) for dim in range(3)])\n",
    "\n",
    "    end_time = time.process_time()\n",
    "    print(f\"Elapsed time: {(end_time - start_time):.2f} seconds\")"
   ]
  },
  {
   "cell_type": "code",
   "execution_count": 11,
   "id": "f78b97ed-d1d6-4ac9-883a-7ea0d87647bd",
   "metadata": {},
   "outputs": [
    {
     "name": "stdout",
     "output_type": "stream",
     "text": [
      "Starting simulation\n",
      "Step, box lengths (nm)\n",
      "0 [4.267, 4.267, 4.267]\n",
      "500 [4.261, 4.261, 4.261]\n",
      "1000 [4.258, 4.258, 4.258]\n",
      "1500 [4.245, 4.245, 4.245]\n",
      "2000 [4.244, 4.244, 4.244]\n",
      "2500 [4.241, 4.241, 4.241]\n",
      "3000 [4.231, 4.231, 4.231]\n",
      "3500 [4.213, 4.213, 4.213]\n",
      "4000 [4.214, 4.214, 4.214]\n",
      "4500 [4.211, 4.211, 4.211]\n",
      "5000 [4.206, 4.206, 4.206]\n",
      "5500 [4.207, 4.207, 4.207]\n",
      "6000 [4.182, 4.182, 4.182]\n",
      "6500 [4.152, 4.152, 4.152]\n",
      "7000 [4.139, 4.139, 4.139]\n",
      "7500 [4.118, 4.118, 4.118]\n",
      "8000 [4.111, 4.111, 4.111]\n",
      "8500 [4.108, 4.108, 4.108]\n",
      "9000 [4.071, 4.071, 4.071]\n",
      "9500 [4.05, 4.05, 4.05]\n",
      "10000 [4.017, 4.017, 4.017]\n",
      "10500 [3.984, 3.984, 3.984]\n",
      "11000 [3.964, 3.964, 3.964]\n",
      "11500 [3.943, 3.943, 3.943]\n",
      "12000 [3.931, 3.931, 3.931]\n",
      "12500 [3.918, 3.918, 3.918]\n",
      "13000 [3.885, 3.885, 3.885]\n",
      "13500 [3.868, 3.868, 3.868]\n",
      "14000 [3.854, 3.854, 3.854]\n",
      "14500 [3.839, 3.839, 3.839]\n",
      "15000 [3.833, 3.833, 3.833]\n",
      "15500 [3.82, 3.82, 3.82]\n",
      "16000 [3.81, 3.81, 3.81]\n",
      "16500 [3.801, 3.801, 3.801]\n",
      "17000 [3.8, 3.8, 3.8]\n",
      "17500 [3.789, 3.789, 3.789]\n",
      "18000 [3.777, 3.777, 3.777]\n",
      "18500 [3.783, 3.783, 3.783]\n",
      "19000 [3.793, 3.793, 3.793]\n",
      "19500 [3.795, 3.795, 3.795]\n",
      "20000 [3.814, 3.814, 3.814]\n",
      "20500 [3.812, 3.812, 3.812]\n",
      "21000 [3.804, 3.804, 3.804]\n",
      "21500 [3.801, 3.801, 3.801]\n",
      "22000 [3.795, 3.795, 3.795]\n",
      "22500 [3.807, 3.807, 3.807]\n",
      "23000 [3.799, 3.799, 3.799]\n",
      "23500 [3.786, 3.786, 3.786]\n",
      "24000 [3.802, 3.802, 3.802]\n",
      "24500 [3.807, 3.807, 3.807]\n",
      "25000 [3.797, 3.797, 3.797]\n",
      "25500 [3.82, 3.82, 3.82]\n",
      "26000 [3.809, 3.809, 3.809]\n",
      "26500 [3.804, 3.804, 3.804]\n",
      "27000 [3.805, 3.805, 3.805]\n",
      "27500 [3.798, 3.798, 3.798]\n",
      "28000 [3.789, 3.789, 3.789]\n",
      "28500 [3.8, 3.8, 3.8]\n",
      "29000 [3.816, 3.816, 3.816]\n",
      "29500 [3.814, 3.814, 3.814]\n",
      "30000 [3.81, 3.81, 3.81]\n",
      "30500 [3.813, 3.813, 3.813]\n",
      "31000 [3.829, 3.829, 3.829]\n",
      "31500 [3.809, 3.809, 3.809]\n",
      "32000 [3.813, 3.813, 3.813]\n",
      "32500 [3.812, 3.812, 3.812]\n",
      "33000 [3.805, 3.805, 3.805]\n",
      "33500 [3.805, 3.805, 3.805]\n",
      "34000 [3.8, 3.8, 3.8]\n",
      "34500 [3.792, 3.792, 3.792]\n",
      "35000 [3.794, 3.794, 3.794]\n",
      "35500 [3.812, 3.812, 3.812]\n",
      "36000 [3.806, 3.806, 3.806]\n",
      "36500 [3.802, 3.802, 3.802]\n",
      "37000 [3.81, 3.81, 3.81]\n",
      "37500 [3.806, 3.806, 3.806]\n",
      "38000 [3.812, 3.812, 3.812]\n",
      "38500 [3.812, 3.812, 3.812]\n",
      "39000 [3.803, 3.803, 3.803]\n",
      "39500 [3.8, 3.8, 3.8]\n",
      "40000 [3.81, 3.81, 3.81]\n",
      "40500 [3.808, 3.808, 3.808]\n",
      "41000 [3.799, 3.799, 3.799]\n",
      "41500 [3.793, 3.793, 3.793]\n",
      "42000 [3.797, 3.797, 3.797]\n",
      "42500 [3.805, 3.805, 3.805]\n",
      "43000 [3.796, 3.796, 3.796]\n",
      "43500 [3.792, 3.792, 3.792]\n",
      "44000 [3.792, 3.792, 3.792]\n",
      "44500 [3.807, 3.807, 3.807]\n",
      "45000 [3.807, 3.807, 3.807]\n",
      "45500 [3.793, 3.793, 3.793]\n",
      "46000 [3.797, 3.797, 3.797]\n",
      "46500 [3.796, 3.796, 3.796]\n",
      "47000 [3.799, 3.799, 3.799]\n",
      "47500 [3.799, 3.799, 3.799]\n",
      "48000 [3.812, 3.812, 3.812]\n",
      "48500 [3.804, 3.804, 3.804]\n",
      "49000 [3.808, 3.808, 3.808]\n",
      "49500 [3.808, 3.808, 3.808]\n",
      "50000 [3.81, 3.81, 3.81]\n",
      "50500 [3.815, 3.815, 3.815]\n",
      "51000 [3.814, 3.814, 3.814]\n",
      "51500 [3.807, 3.807, 3.807]\n",
      "52000 [3.811, 3.811, 3.811]\n",
      "52500 [3.803, 3.803, 3.803]\n",
      "53000 [3.793, 3.793, 3.793]\n",
      "53500 [3.819, 3.819, 3.819]\n",
      "54000 [3.819, 3.819, 3.819]\n",
      "54500 [3.812, 3.812, 3.812]\n",
      "55000 [3.812, 3.812, 3.812]\n",
      "55500 [3.817, 3.817, 3.817]\n",
      "56000 [3.804, 3.804, 3.804]\n",
      "56500 [3.798, 3.798, 3.798]\n",
      "57000 [3.806, 3.806, 3.806]\n",
      "57500 [3.795, 3.795, 3.795]\n",
      "58000 [3.796, 3.796, 3.796]\n",
      "58500 [3.8, 3.8, 3.8]\n",
      "59000 [3.801, 3.801, 3.801]\n",
      "59500 [3.786, 3.786, 3.786]\n",
      "60000 [3.787, 3.787, 3.787]\n",
      "60500 [3.805, 3.805, 3.805]\n",
      "61000 [3.82, 3.82, 3.82]\n",
      "61500 [3.818, 3.818, 3.818]\n",
      "62000 [3.805, 3.805, 3.805]\n",
      "62500 [3.809, 3.809, 3.809]\n",
      "63000 [3.795, 3.795, 3.795]\n",
      "63500 [3.803, 3.803, 3.803]\n",
      "64000 [3.808, 3.808, 3.808]\n",
      "64500 [3.798, 3.798, 3.798]\n",
      "65000 [3.8, 3.8, 3.8]\n",
      "65500 [3.798, 3.798, 3.798]\n",
      "66000 [3.798, 3.798, 3.798]\n",
      "66500 [3.798, 3.798, 3.798]\n",
      "67000 [3.795, 3.795, 3.795]\n",
      "67500 [3.788, 3.788, 3.788]\n",
      "68000 [3.79, 3.79, 3.79]\n",
      "68500 [3.81, 3.81, 3.81]\n",
      "69000 [3.795, 3.795, 3.795]\n",
      "69500 [3.801, 3.801, 3.801]\n",
      "70000 [3.806, 3.806, 3.806]\n",
      "70500 [3.808, 3.808, 3.808]\n",
      "71000 [3.797, 3.797, 3.797]\n",
      "71500 [3.794, 3.794, 3.794]\n",
      "72000 [3.805, 3.805, 3.805]\n",
      "72500 [3.805, 3.805, 3.805]\n",
      "73000 [3.798, 3.798, 3.798]\n",
      "73500 [3.781, 3.781, 3.781]\n",
      "74000 [3.792, 3.792, 3.792]\n",
      "74500 [3.788, 3.788, 3.788]\n",
      "75000 [3.797, 3.797, 3.797]\n",
      "75500 [3.794, 3.794, 3.794]\n",
      "76000 [3.792, 3.792, 3.792]\n",
      "76500 [3.8, 3.8, 3.8]\n",
      "77000 [3.814, 3.814, 3.814]\n",
      "77500 [3.811, 3.811, 3.811]\n",
      "78000 [3.808, 3.808, 3.808]\n",
      "78500 [3.805, 3.805, 3.805]\n",
      "79000 [3.796, 3.796, 3.796]\n",
      "79500 [3.794, 3.794, 3.794]\n",
      "80000 [3.806, 3.806, 3.806]\n",
      "80500 [3.798, 3.798, 3.798]\n",
      "81000 [3.804, 3.804, 3.804]\n",
      "81500 [3.792, 3.792, 3.792]\n",
      "82000 [3.804, 3.804, 3.804]\n",
      "82500 [3.803, 3.803, 3.803]\n",
      "83000 [3.795, 3.795, 3.795]\n",
      "83500 [3.792, 3.792, 3.792]\n",
      "84000 [3.795, 3.795, 3.795]\n",
      "84500 [3.793, 3.793, 3.793]\n",
      "85000 [3.789, 3.789, 3.789]\n",
      "85500 [3.788, 3.788, 3.788]\n",
      "86000 [3.793, 3.793, 3.793]\n",
      "86500 [3.792, 3.792, 3.792]\n",
      "87000 [3.806, 3.806, 3.806]\n",
      "87500 [3.792, 3.792, 3.792]\n",
      "88000 [3.793, 3.793, 3.793]\n",
      "88500 [3.802, 3.802, 3.802]\n",
      "89000 [3.796, 3.796, 3.796]\n",
      "89500 [3.807, 3.807, 3.807]\n",
      "90000 [3.804, 3.804, 3.804]\n",
      "90500 [3.807, 3.807, 3.807]\n",
      "91000 [3.811, 3.811, 3.811]\n",
      "91500 [3.817, 3.817, 3.817]\n",
      "92000 [3.793, 3.793, 3.793]\n",
      "92500 [3.782, 3.782, 3.782]\n",
      "93000 [3.813, 3.813, 3.813]\n",
      "93500 [3.803, 3.803, 3.803]\n",
      "94000 [3.801, 3.801, 3.801]\n",
      "94500 [3.804, 3.804, 3.804]\n",
      "95000 [3.796, 3.796, 3.796]\n",
      "95500 [3.811, 3.811, 3.811]\n",
      "96000 [3.804, 3.804, 3.804]\n",
      "96500 [3.807, 3.807, 3.807]\n",
      "97000 [3.803, 3.803, 3.803]\n",
      "97500 [3.802, 3.802, 3.802]\n",
      "98000 [3.803, 3.803, 3.803]\n",
      "98500 [3.811, 3.811, 3.811]\n",
      "99000 [3.799, 3.799, 3.799]\n",
      "99500 [3.798, 3.798, 3.798]\n",
      "Elapsed time: 53.49 seconds\n"
     ]
    }
   ],
   "source": [
    "run_simulation(simulation, n_steps=100000)"
   ]
  },
  {
   "cell_type": "code",
   "execution_count": 13,
   "id": "f9edec0d",
   "metadata": {},
   "outputs": [
    {
     "name": "stderr",
     "output_type": "stream",
     "text": [
      "/Users/lily/micromamba/envs/yammbs/lib/python3.10/site-packages/MDAnalysis/coordinates/PDB.py:777: UserWarning: Unit cell dimensions not found. CRYST1 record set to unitary values.\n",
      "  warnings.warn(\"Unit cell dimensions not found. \"\n",
      "/Users/lily/micromamba/envs/yammbs/lib/python3.10/site-packages/MDAnalysis/coordinates/PDB.py:1153: UserWarning: Found no information for attr: 'formalcharges' Using default value of '0'\n",
      "  warnings.warn(\"Found no information for attr: '{}'\"\n"
     ]
    }
   ],
   "source": [
    "# strip water\n",
    "u = mda.Universe(\"trajectory.pdb\")\n",
    "with mda.Writer(\"trajectory_noh2o.pdb\", len(u.residues[0].atoms)) as writer:\n",
    "    for _ in u.trajectory:\n",
    "        writer.write(u.residues[0].atoms)"
   ]
  },
  {
   "cell_type": "code",
   "execution_count": null,
   "id": "ed184ab6-1136-49dd-81db-cf4224e13576",
   "metadata": {},
   "outputs": [],
   "source": []
  }
 ],
 "metadata": {
  "kernelspec": {
   "display_name": "Python 3 (ipykernel)",
   "language": "python",
   "name": "python3"
  },
  "language_info": {
   "codemirror_mode": {
    "name": "ipython",
    "version": 3
   },
   "file_extension": ".py",
   "mimetype": "text/x-python",
   "name": "python",
   "nbconvert_exporter": "python",
   "pygments_lexer": "ipython3",
   "version": "3.10.14"
  }
 },
 "nbformat": 4,
 "nbformat_minor": 5
}
